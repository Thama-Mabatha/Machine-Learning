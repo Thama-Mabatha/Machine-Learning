{
 "cells": [
  {
   "cell_type": "markdown",
   "id": "m7v-8SN0ailk",
   "metadata": {
    "id": "m7v-8SN0ailk"
   },
   "source": [
    "# Data Visualization"
   ]
  },
  {
   "cell_type": "code",
   "execution_count": 104,
   "id": "028b9dc8-eb16-44e6-9185-6a36677a980f",
   "metadata": {
    "id": "028b9dc8-eb16-44e6-9185-6a36677a980f"
   },
   "outputs": [],
   "source": [
    "import os\n",
    "import pandas as pd\n",
    "import matplotlib.pyplot as plt\n",
    "\n",
    "DATASET_PATH = \".\"\n",
    "FILENAME = \"TrainData.csv\"\n",
    "\n",
    "# reading the dataset and converting to a DataFrame\n",
    "def load_training_data(dataset_path=DATASET_PATH, filename=FILENAME):\n",
    "    csv_path = os.path.join(dataset_path, filename)\n",
    "    return pd.read_csv(csv_path)"
   ]
  },
  {
   "cell_type": "code",
   "execution_count": 105,
   "id": "9a7e747a-ecb9-480c-a670-8bcafc58f0c4",
   "metadata": {
    "colab": {
     "base_uri": "https://localhost:8080/"
    },
    "id": "9a7e747a-ecb9-480c-a670-8bcafc58f0c4",
    "outputId": "bc0c3864-3fca-4b27-a1c5-6aeb98a17340"
   },
   "outputs": [
    {
     "name": "stdout",
     "output_type": "stream",
     "text": [
      "<class 'pandas.core.frame.DataFrame'>\n",
      "RangeIndex: 73286 entries, 0 to 73285\n",
      "Data columns (total 21 columns):\n",
      " #   Column                     Non-Null Count  Dtype         \n",
      "---  ------                     --------------  -----         \n",
      " 0   CustomerID                 73286 non-null  object        \n",
      " 1   LeadID                     73286 non-null  int64         \n",
      " 2   DTLeadCreated              73286 non-null  datetime64[ns]\n",
      " 3   DTLeadAllocated            73286 non-null  datetime64[ns]\n",
      " 4   Dealer                     73286 non-null  object        \n",
      " 5   LeadSource                 73286 non-null  object        \n",
      " 6   LeadType                   73286 non-null  object        \n",
      " 7   Seek                       73286 non-null  object        \n",
      " 8   InterestMake               72056 non-null  object        \n",
      " 9   InterestModel              66441 non-null  object        \n",
      " 10  OBSFullName                73286 non-null  object        \n",
      " 11  OBSEmail                   65499 non-null  object        \n",
      " 12  Domain                     65499 non-null  object        \n",
      " 13  CellPrefix                 73286 non-null  object        \n",
      " 14  CellPhoneNoLength          73286 non-null  int64         \n",
      " 15  HourOfEnquiry              73286 non-null  int64         \n",
      " 16  DayOfEnquiry               73286 non-null  int64         \n",
      " 17  InFinanceProcessSystemApp  73286 non-null  int64         \n",
      " 18  FinanceApplied             73286 non-null  int64         \n",
      " 19  FinanceApproved            73286 non-null  int64         \n",
      " 20  VehicleSold                73286 non-null  int64         \n",
      "dtypes: datetime64[ns](2), int64(8), object(11)\n",
      "memory usage: 11.7+ MB\n"
     ]
    }
   ],
   "source": [
    "# store the leads for use\n",
    "leads = load_training_data()\n",
    "\n",
    "# convert DTLeadCreated to datetime\n",
    "leads[\"DTLeadCreated\"] = pd.to_datetime(leads[\"DTLeadCreated\"])\n",
    "leads[\"DTLeadAllocated\"] = pd.to_datetime(leads[\"DTLeadAllocated\"])\n",
    "\n",
    "# new column with numeric representing the month\n",
    "# leads[\"MonthOfEnquiry\"] = leads[\"DTLeadCreated\"].dt.month.astype(\"int64\")\n",
    "\n",
    "leads.info()"
   ]
  },
  {
   "cell_type": "code",
   "execution_count": 106,
   "id": "93dbacf1-1b9c-41f5-9d6b-7704637cad0d",
   "metadata": {
    "colab": {
     "base_uri": "https://localhost:8080/",
     "height": 0
    },
    "id": "93dbacf1-1b9c-41f5-9d6b-7704637cad0d",
    "jupyter": {
     "source_hidden": true
    },
    "outputId": "6044a53c-e9f9-4816-cc0f-6cc5cdd77975"
   },
   "outputs": [
    {
     "data": {
      "text/html": [
       "<div>\n",
       "<style scoped>\n",
       "    .dataframe tbody tr th:only-of-type {\n",
       "        vertical-align: middle;\n",
       "    }\n",
       "\n",
       "    .dataframe tbody tr th {\n",
       "        vertical-align: top;\n",
       "    }\n",
       "\n",
       "    .dataframe thead th {\n",
       "        text-align: right;\n",
       "    }\n",
       "</style>\n",
       "<table border=\"1\" class=\"dataframe\">\n",
       "  <thead>\n",
       "    <tr style=\"text-align: right;\">\n",
       "      <th></th>\n",
       "      <th>CustomerID</th>\n",
       "      <th>LeadID</th>\n",
       "      <th>DTLeadCreated</th>\n",
       "      <th>DTLeadAllocated</th>\n",
       "      <th>Dealer</th>\n",
       "      <th>LeadSource</th>\n",
       "      <th>LeadType</th>\n",
       "      <th>Seek</th>\n",
       "      <th>InterestMake</th>\n",
       "      <th>InterestModel</th>\n",
       "      <th>...</th>\n",
       "      <th>OBSEmail</th>\n",
       "      <th>Domain</th>\n",
       "      <th>CellPrefix</th>\n",
       "      <th>CellPhoneNoLength</th>\n",
       "      <th>HourOfEnquiry</th>\n",
       "      <th>DayOfEnquiry</th>\n",
       "      <th>InFinanceProcessSystemApp</th>\n",
       "      <th>FinanceApplied</th>\n",
       "      <th>FinanceApproved</th>\n",
       "      <th>VehicleSold</th>\n",
       "    </tr>\n",
       "  </thead>\n",
       "  <tbody>\n",
       "    <tr>\n",
       "      <th>0</th>\n",
       "      <td>D3B8E20E-F798-4CA9-94EE-FF6D0E7E99F2</td>\n",
       "      <td>11187465</td>\n",
       "      <td>2025-02-15 14:34:00</td>\n",
       "      <td>2025-02-17 11:47:00</td>\n",
       "      <td>Motus Chery Germiston</td>\n",
       "      <td>DEALER FACEBOOK</td>\n",
       "      <td>Facebook</td>\n",
       "      <td>New</td>\n",
       "      <td>Chery</td>\n",
       "      <td>Tiggo 4 Pro 1.5 LIT MIT</td>\n",
       "      <td>...</td>\n",
       "      <td>XXXXXXXXXXXXXXXXXXX5@gmail.com</td>\n",
       "      <td>@gmail.com</td>\n",
       "      <td>61</td>\n",
       "      <td>10</td>\n",
       "      <td>14</td>\n",
       "      <td>15</td>\n",
       "      <td>0</td>\n",
       "      <td>0</td>\n",
       "      <td>0</td>\n",
       "      <td>0</td>\n",
       "    </tr>\n",
       "    <tr>\n",
       "      <th>1</th>\n",
       "      <td>372AB00B-6A1C-45D1-8D29-29287C627D3B</td>\n",
       "      <td>11187550</td>\n",
       "      <td>2025-02-15 14:50:00</td>\n",
       "      <td>2025-02-15 14:50:00</td>\n",
       "      <td>Renault Northcliff - 70045</td>\n",
       "      <td>RR-Dealer Facebook-Renault</td>\n",
       "      <td>Facebook</td>\n",
       "      <td>New</td>\n",
       "      <td>Renault</td>\n",
       "      <td>Triber</td>\n",
       "      <td>...</td>\n",
       "      <td>XXXXXXXX@gmail.com</td>\n",
       "      <td>@gmail.com</td>\n",
       "      <td>83</td>\n",
       "      <td>10</td>\n",
       "      <td>14</td>\n",
       "      <td>15</td>\n",
       "      <td>0</td>\n",
       "      <td>0</td>\n",
       "      <td>0</td>\n",
       "      <td>0</td>\n",
       "    </tr>\n",
       "    <tr>\n",
       "      <th>2</th>\n",
       "      <td>74262064-94E9-4E7E-9C01-CA8405243929</td>\n",
       "      <td>11187564</td>\n",
       "      <td>2025-02-15 14:51:00</td>\n",
       "      <td>2025-02-17 09:01:00</td>\n",
       "      <td>Durban Multifranchise - 70111</td>\n",
       "      <td>KIA-CCPPG-SONET</td>\n",
       "      <td>Other</td>\n",
       "      <td>New</td>\n",
       "      <td>KIA</td>\n",
       "      <td>Sonet</td>\n",
       "      <td>...</td>\n",
       "      <td>XXXXXXXXX39@gmail.com</td>\n",
       "      <td>@gmail.com</td>\n",
       "      <td>79</td>\n",
       "      <td>10</td>\n",
       "      <td>14</td>\n",
       "      <td>15</td>\n",
       "      <td>0</td>\n",
       "      <td>0</td>\n",
       "      <td>0</td>\n",
       "      <td>0</td>\n",
       "    </tr>\n",
       "    <tr>\n",
       "      <th>3</th>\n",
       "      <td>F4D65935-310B-455D-B414-1759C3B807F7</td>\n",
       "      <td>11187583</td>\n",
       "      <td>2025-02-15 14:55:00</td>\n",
       "      <td>2025-02-15 14:57:00</td>\n",
       "      <td>Lindsay Saker VW Germiston</td>\n",
       "      <td>Group Website VW: Specials</td>\n",
       "      <td>Website</td>\n",
       "      <td>New</td>\n",
       "      <td>Volkswagen</td>\n",
       "      <td>Polo Vivo</td>\n",
       "      <td>...</td>\n",
       "      <td>XXXXXXXXXX@gmail.com</td>\n",
       "      <td>@gmail.com</td>\n",
       "      <td>71</td>\n",
       "      <td>10</td>\n",
       "      <td>14</td>\n",
       "      <td>15</td>\n",
       "      <td>1</td>\n",
       "      <td>0</td>\n",
       "      <td>0</td>\n",
       "      <td>1</td>\n",
       "    </tr>\n",
       "    <tr>\n",
       "      <th>4</th>\n",
       "      <td>A732E82D-B4BE-438C-9690-07AB3EFD9CD4</td>\n",
       "      <td>11187615</td>\n",
       "      <td>2025-02-15 15:04:00</td>\n",
       "      <td>2025-02-15 15:04:00</td>\n",
       "      <td>Durban Multifranchise - 70111</td>\n",
       "      <td>TikTok</td>\n",
       "      <td>TikTok</td>\n",
       "      <td>New</td>\n",
       "      <td>Renault</td>\n",
       "      <td>Kwid</td>\n",
       "      <td>...</td>\n",
       "      <td>XXXXXXXXXX12@gmail.com</td>\n",
       "      <td>@gmail.com</td>\n",
       "      <td>71</td>\n",
       "      <td>10</td>\n",
       "      <td>15</td>\n",
       "      <td>15</td>\n",
       "      <td>0</td>\n",
       "      <td>0</td>\n",
       "      <td>0</td>\n",
       "      <td>0</td>\n",
       "    </tr>\n",
       "  </tbody>\n",
       "</table>\n",
       "<p>5 rows × 21 columns</p>\n",
       "</div>"
      ],
      "text/plain": [
       "                             CustomerID    LeadID       DTLeadCreated  \\\n",
       "0  D3B8E20E-F798-4CA9-94EE-FF6D0E7E99F2  11187465 2025-02-15 14:34:00   \n",
       "1  372AB00B-6A1C-45D1-8D29-29287C627D3B  11187550 2025-02-15 14:50:00   \n",
       "2  74262064-94E9-4E7E-9C01-CA8405243929  11187564 2025-02-15 14:51:00   \n",
       "3  F4D65935-310B-455D-B414-1759C3B807F7  11187583 2025-02-15 14:55:00   \n",
       "4  A732E82D-B4BE-438C-9690-07AB3EFD9CD4  11187615 2025-02-15 15:04:00   \n",
       "\n",
       "      DTLeadAllocated                         Dealer  \\\n",
       "0 2025-02-17 11:47:00          Motus Chery Germiston   \n",
       "1 2025-02-15 14:50:00     Renault Northcliff - 70045   \n",
       "2 2025-02-17 09:01:00  Durban Multifranchise - 70111   \n",
       "3 2025-02-15 14:57:00     Lindsay Saker VW Germiston   \n",
       "4 2025-02-15 15:04:00  Durban Multifranchise - 70111   \n",
       "\n",
       "                   LeadSource  LeadType Seek InterestMake  \\\n",
       "0             DEALER FACEBOOK  Facebook  New        Chery   \n",
       "1  RR-Dealer Facebook-Renault  Facebook  New      Renault   \n",
       "2             KIA-CCPPG-SONET     Other  New          KIA   \n",
       "3  Group Website VW: Specials   Website  New   Volkswagen   \n",
       "4                      TikTok    TikTok  New      Renault   \n",
       "\n",
       "             InterestModel  ...                        OBSEmail      Domain  \\\n",
       "0  Tiggo 4 Pro 1.5 LIT MIT  ...  XXXXXXXXXXXXXXXXXXX5@gmail.com  @gmail.com   \n",
       "1                   Triber  ...              XXXXXXXX@gmail.com  @gmail.com   \n",
       "2                    Sonet  ...           XXXXXXXXX39@gmail.com  @gmail.com   \n",
       "3                Polo Vivo  ...            XXXXXXXXXX@gmail.com  @gmail.com   \n",
       "4                     Kwid  ...          XXXXXXXXXX12@gmail.com  @gmail.com   \n",
       "\n",
       "  CellPrefix CellPhoneNoLength  HourOfEnquiry  DayOfEnquiry  \\\n",
       "0         61                10             14            15   \n",
       "1         83                10             14            15   \n",
       "2         79                10             14            15   \n",
       "3         71                10             14            15   \n",
       "4         71                10             15            15   \n",
       "\n",
       "   InFinanceProcessSystemApp  FinanceApplied  FinanceApproved  VehicleSold  \n",
       "0                          0               0                0            0  \n",
       "1                          0               0                0            0  \n",
       "2                          0               0                0            0  \n",
       "3                          1               0                0            1  \n",
       "4                          0               0                0            0  \n",
       "\n",
       "[5 rows x 21 columns]"
      ]
     },
     "execution_count": 106,
     "metadata": {},
     "output_type": "execute_result"
    }
   ],
   "source": [
    "leads.head() # have a look at the first 5 instance"
   ]
  },
  {
   "cell_type": "code",
   "execution_count": 107,
   "id": "c7694e9a-30ae-4a87-8f63-6435902687ae",
   "metadata": {
    "colab": {
     "base_uri": "https://localhost:8080/",
     "height": 0
    },
    "id": "c7694e9a-30ae-4a87-8f63-6435902687ae",
    "jupyter": {
     "source_hidden": true
    },
    "outputId": "8df7f38a-b449-4280-d09e-bcdbc9a1ba17"
   },
   "outputs": [
    {
     "data": {
      "text/html": [
       "<div>\n",
       "<style scoped>\n",
       "    .dataframe tbody tr th:only-of-type {\n",
       "        vertical-align: middle;\n",
       "    }\n",
       "\n",
       "    .dataframe tbody tr th {\n",
       "        vertical-align: top;\n",
       "    }\n",
       "\n",
       "    .dataframe thead th {\n",
       "        text-align: right;\n",
       "    }\n",
       "</style>\n",
       "<table border=\"1\" class=\"dataframe\">\n",
       "  <thead>\n",
       "    <tr style=\"text-align: right;\">\n",
       "      <th></th>\n",
       "      <th>DTLeadCreated</th>\n",
       "      <th>DTLeadAllocated</th>\n",
       "      <th>CellPhoneNoLength</th>\n",
       "      <th>HourOfEnquiry</th>\n",
       "      <th>DayOfEnquiry</th>\n",
       "      <th>InFinanceProcessSystemApp</th>\n",
       "      <th>FinanceApplied</th>\n",
       "      <th>FinanceApproved</th>\n",
       "      <th>VehicleSold</th>\n",
       "    </tr>\n",
       "  </thead>\n",
       "  <tbody>\n",
       "    <tr>\n",
       "      <th>count</th>\n",
       "      <td>73286</td>\n",
       "      <td>73286</td>\n",
       "      <td>73286.000000</td>\n",
       "      <td>73286.000000</td>\n",
       "      <td>73286.000000</td>\n",
       "      <td>73286.000000</td>\n",
       "      <td>73286.000000</td>\n",
       "      <td>73286.000000</td>\n",
       "      <td>73286.000000</td>\n",
       "    </tr>\n",
       "    <tr>\n",
       "      <th>mean</th>\n",
       "      <td>2025-02-15 18:28:01.327129344</td>\n",
       "      <td>2025-02-16 01:03:56.032530176</td>\n",
       "      <td>9.994828</td>\n",
       "      <td>13.772617</td>\n",
       "      <td>16.563832</td>\n",
       "      <td>0.212769</td>\n",
       "      <td>0.156374</td>\n",
       "      <td>0.066261</td>\n",
       "      <td>0.044047</td>\n",
       "    </tr>\n",
       "    <tr>\n",
       "      <th>min</th>\n",
       "      <td>2025-01-01 00:09:00</td>\n",
       "      <td>2025-01-01 02:12:00</td>\n",
       "      <td>1.000000</td>\n",
       "      <td>0.000000</td>\n",
       "      <td>1.000000</td>\n",
       "      <td>0.000000</td>\n",
       "      <td>0.000000</td>\n",
       "      <td>0.000000</td>\n",
       "      <td>0.000000</td>\n",
       "    </tr>\n",
       "    <tr>\n",
       "      <th>25%</th>\n",
       "      <td>2025-01-23 21:07:15</td>\n",
       "      <td>2025-01-24 08:32:00</td>\n",
       "      <td>10.000000</td>\n",
       "      <td>10.000000</td>\n",
       "      <td>10.000000</td>\n",
       "      <td>0.000000</td>\n",
       "      <td>0.000000</td>\n",
       "      <td>0.000000</td>\n",
       "      <td>0.000000</td>\n",
       "    </tr>\n",
       "    <tr>\n",
       "      <th>50%</th>\n",
       "      <td>2025-02-15 16:50:30</td>\n",
       "      <td>2025-02-16 02:07:30</td>\n",
       "      <td>10.000000</td>\n",
       "      <td>14.000000</td>\n",
       "      <td>17.000000</td>\n",
       "      <td>0.000000</td>\n",
       "      <td>0.000000</td>\n",
       "      <td>0.000000</td>\n",
       "      <td>0.000000</td>\n",
       "    </tr>\n",
       "    <tr>\n",
       "      <th>75%</th>\n",
       "      <td>2025-03-11 10:35:00</td>\n",
       "      <td>2025-03-11 11:01:45</td>\n",
       "      <td>10.000000</td>\n",
       "      <td>18.000000</td>\n",
       "      <td>23.000000</td>\n",
       "      <td>0.000000</td>\n",
       "      <td>0.000000</td>\n",
       "      <td>0.000000</td>\n",
       "      <td>0.000000</td>\n",
       "    </tr>\n",
       "    <tr>\n",
       "      <th>max</th>\n",
       "      <td>2025-03-31 23:57:00</td>\n",
       "      <td>2025-05-16 09:43:00</td>\n",
       "      <td>14.000000</td>\n",
       "      <td>23.000000</td>\n",
       "      <td>31.000000</td>\n",
       "      <td>1.000000</td>\n",
       "      <td>1.000000</td>\n",
       "      <td>1.000000</td>\n",
       "      <td>1.000000</td>\n",
       "    </tr>\n",
       "    <tr>\n",
       "      <th>std</th>\n",
       "      <td>NaN</td>\n",
       "      <td>NaN</td>\n",
       "      <td>0.289382</td>\n",
       "      <td>5.375748</td>\n",
       "      <td>8.245212</td>\n",
       "      <td>0.409269</td>\n",
       "      <td>0.363212</td>\n",
       "      <td>0.248739</td>\n",
       "      <td>0.205200</td>\n",
       "    </tr>\n",
       "  </tbody>\n",
       "</table>\n",
       "</div>"
      ],
      "text/plain": [
       "                       DTLeadCreated                DTLeadAllocated  \\\n",
       "count                          73286                          73286   \n",
       "mean   2025-02-15 18:28:01.327129344  2025-02-16 01:03:56.032530176   \n",
       "min              2025-01-01 00:09:00            2025-01-01 02:12:00   \n",
       "25%              2025-01-23 21:07:15            2025-01-24 08:32:00   \n",
       "50%              2025-02-15 16:50:30            2025-02-16 02:07:30   \n",
       "75%              2025-03-11 10:35:00            2025-03-11 11:01:45   \n",
       "max              2025-03-31 23:57:00            2025-05-16 09:43:00   \n",
       "std                              NaN                            NaN   \n",
       "\n",
       "       CellPhoneNoLength  HourOfEnquiry  DayOfEnquiry  \\\n",
       "count       73286.000000   73286.000000  73286.000000   \n",
       "mean            9.994828      13.772617     16.563832   \n",
       "min             1.000000       0.000000      1.000000   \n",
       "25%            10.000000      10.000000     10.000000   \n",
       "50%            10.000000      14.000000     17.000000   \n",
       "75%            10.000000      18.000000     23.000000   \n",
       "max            14.000000      23.000000     31.000000   \n",
       "std             0.289382       5.375748      8.245212   \n",
       "\n",
       "       InFinanceProcessSystemApp  FinanceApplied  FinanceApproved  \\\n",
       "count               73286.000000    73286.000000     73286.000000   \n",
       "mean                    0.212769        0.156374         0.066261   \n",
       "min                     0.000000        0.000000         0.000000   \n",
       "25%                     0.000000        0.000000         0.000000   \n",
       "50%                     0.000000        0.000000         0.000000   \n",
       "75%                     0.000000        0.000000         0.000000   \n",
       "max                     1.000000        1.000000         1.000000   \n",
       "std                     0.409269        0.363212         0.248739   \n",
       "\n",
       "        VehicleSold  \n",
       "count  73286.000000  \n",
       "mean       0.044047  \n",
       "min        0.000000  \n",
       "25%        0.000000  \n",
       "50%        0.000000  \n",
       "75%        0.000000  \n",
       "max        1.000000  \n",
       "std        0.205200  "
      ]
     },
     "execution_count": 107,
     "metadata": {},
     "output_type": "execute_result"
    }
   ],
   "source": [
    "leads_no_id = leads.drop(\"LeadID\", axis=1)\n",
    "leads_no_id.describe() # description of all the numerical fields in the dataset"
   ]
  },
  {
   "cell_type": "code",
   "execution_count": 108,
   "id": "df9b0783-466b-43b4-8314-ab96a90df79f",
   "metadata": {
    "colab": {
     "base_uri": "https://localhost:8080/"
    },
    "id": "df9b0783-466b-43b4-8314-ab96a90df79f",
    "jupyter": {
     "source_hidden": true
    },
    "outputId": "b130515a-0d80-4932-c335-aea3ba2aceb1"
   },
   "outputs": [
    {
     "name": "stdout",
     "output_type": "stream",
     "text": [
      "Dealer\n",
      "Durban Multifranchise - 70111       3361\n",
      "East Rand Multifranchise - 70043    3115\n",
      "Nelspruit Multifranchise - 70024    2684\n",
      "Alberton Multifranchise -70051      2326\n",
      "Renault Northcliff - 70045          2193\n",
      "                                    ... \n",
      "Isuzu Trucks Bloemfontein             17\n",
      "Volvo Bloemfontein                    16\n",
      "Jaguar & Land Rover Bloemfontein       8\n",
      "BMW Motorrad Bloemfontein              7\n",
      "Motus Isuzu Trucks Vereeniging         2\n",
      "Name: count, Length: 115, dtype: int64\n"
     ]
    }
   ],
   "source": [
    "leads_dealers = leads[\"Dealer\"].value_counts() # dealers with the most / least leads\n",
    "leads_dealers.to_csv(os.path.join(DATASET_PATH, \"Dealers.csv\"), index=True)\n",
    "print(leads_dealers)"
   ]
  },
  {
   "cell_type": "code",
   "execution_count": 109,
   "id": "b3a8e10c-7d13-4c46-ba55-9b5cf4a5331a",
   "metadata": {
    "colab": {
     "base_uri": "https://localhost:8080/"
    },
    "id": "b3a8e10c-7d13-4c46-ba55-9b5cf4a5331a",
    "jupyter": {
     "source_hidden": true
    },
    "outputId": "ff63bd64-48ca-45c8-e084-3caba17aa52c"
   },
   "outputs": [
    {
     "name": "stdout",
     "output_type": "stream",
     "text": [
      "LeadSource\n",
      "DEALER FACEBOOK                            10165\n",
      "AUTOTRADER                                  5402\n",
      "Cars.co.za                                  3481\n",
      "RR-Dealer Facebook-Renault                  2845\n",
      "MS-Pmax-NextLevel-CPC                       2531\n",
      "                                           ...  \n",
      "HSA-C2B-GUPSHUP                                1\n",
      "GroupWebsite-FB-CBD-CPC                        1\n",
      "MSA-www.mitsubishi.co.za/VehicleEnquiry        1\n",
      "RSA-CARS.CO.ZA-USED                            1\n",
      "HSA-WEB-BOOKATESTDRIVE_GADS_DEALERNV           1\n",
      "Name: count, Length: 450, dtype: int64\n"
     ]
    }
   ],
   "source": [
    "leads_sources = leads[\"LeadSource\"].value_counts() # lead sources and their count\n",
    "leads_sources.to_csv(os.path.join(DATASET_PATH, \"LeadSources.csv\"), index=True)\n",
    "print(leads_sources)"
   ]
  },
  {
   "cell_type": "code",
   "execution_count": 110,
   "id": "71dbe9ce-5b18-4aa1-a6c6-a133dce43e43",
   "metadata": {
    "colab": {
     "base_uri": "https://localhost:8080/",
     "height": 0
    },
    "id": "71dbe9ce-5b18-4aa1-a6c6-a133dce43e43",
    "jupyter": {
     "source_hidden": true
    },
    "outputId": "c50d7935-f6e5-4609-c48a-da0b96724396"
   },
   "outputs": [
    {
     "data": {
      "text/plain": [
       "LeadType\n",
       "Facebook         25572\n",
       "Other            12886\n",
       "Website          10333\n",
       "CPC               7410\n",
       "AutoTrader        7105\n",
       "Cars.co.za        3743\n",
       "TikTok            2488\n",
       "Kia Retail        1976\n",
       "Carfind.co.za     1773\n",
       "Name: count, dtype: int64"
      ]
     },
     "execution_count": 110,
     "metadata": {},
     "output_type": "execute_result"
    }
   ],
   "source": [
    "leads[\"LeadType\"].value_counts() # lead types and their counts"
   ]
  },
  {
   "cell_type": "code",
   "execution_count": 111,
   "id": "185d6ea5-6302-4091-9aa7-c9d5db9149d1",
   "metadata": {
    "colab": {
     "base_uri": "https://localhost:8080/",
     "height": 0
    },
    "id": "185d6ea5-6302-4091-9aa7-c9d5db9149d1",
    "jupyter": {
     "source_hidden": true
    },
    "outputId": "eb0949fa-78e6-4c3a-df51-88414e953cb2"
   },
   "outputs": [
    {
     "data": {
      "text/plain": [
       "Seek\n",
       "New     42259\n",
       "Used    31027\n",
       "Name: count, dtype: int64"
      ]
     },
     "execution_count": 111,
     "metadata": {},
     "output_type": "execute_result"
    }
   ],
   "source": [
    "leads[\"Seek\"].value_counts() # new / used count"
   ]
  },
  {
   "cell_type": "code",
   "execution_count": 112,
   "id": "ec1bef80-a8c6-4480-833e-49848554af33",
   "metadata": {
    "colab": {
     "base_uri": "https://localhost:8080/"
    },
    "id": "ec1bef80-a8c6-4480-833e-49848554af33",
    "jupyter": {
     "source_hidden": true
    },
    "outputId": "78c2d171-1c71-42ab-e700-f38b6b2193de"
   },
   "outputs": [
    {
     "name": "stdout",
     "output_type": "stream",
     "text": [
      "InterestMake\n",
      "Renault            16667\n",
      "Volkswagen          6512\n",
      "Toyota              5146\n",
      "Hyundai             3646\n",
      "KIA                 3135\n",
      "                   ...  \n",
      "ISUZU OFCOURSE!        1\n",
      "Izuzu                  1\n",
      "RAV 4                  1\n",
      "Toyota RAV4            1\n",
      "Yaris                  1\n",
      "Name: count, Length: 353, dtype: int64\n"
     ]
    }
   ],
   "source": [
    "interest_makes = leads[\"InterestMake\"].value_counts() # top and least popular makes/brands\n",
    "interest_makes.to_csv(os.path.join(DATASET_PATH, \"InterestMakes.csv\"), index=True)\n",
    "print(interest_makes)"
   ]
  },
  {
   "cell_type": "code",
   "execution_count": 113,
   "id": "ccb6f004-24e3-4998-825a-ebcc7aa4f9c9",
   "metadata": {
    "colab": {
     "base_uri": "https://localhost:8080/"
    },
    "id": "ccb6f004-24e3-4998-825a-ebcc7aa4f9c9",
    "jupyter": {
     "source_hidden": true
    },
    "outputId": "d0df4a18-ca4a-4382-9e1f-abe92f5eeec3"
   },
   "outputs": [
    {
     "name": "stdout",
     "output_type": "stream",
     "text": [
      "InterestModel\n",
      "Kwid                             5972\n",
      "Triber                           2886\n",
      "Sonet                            1768\n",
      "Koleos                           1504\n",
      "Kiger                            1393\n",
      "                                 ... \n",
      "GX CVT                              1\n",
      "Grand Vitara 1.5 GLX auto           1\n",
      "220i M SPORT A/T(F22)               1\n",
      "Acenta 1.0 CVT                      1\n",
      "Amarok 2.0TDI double cab Life       1\n",
      "Name: count, Length: 4684, dtype: int64\n"
     ]
    }
   ],
   "source": [
    "interest_models = leads[\"InterestModel\"].value_counts() # most / least popular models\n",
    "interest_models.to_csv(os.path.join(DATASET_PATH, \"InterestModels.csv\"), index=True)\n",
    "print(interest_models)"
   ]
  },
  {
   "cell_type": "code",
   "execution_count": 114,
   "id": "8316cfcc-6699-458a-b3ed-9cede5993dc6",
   "metadata": {
    "colab": {
     "base_uri": "https://localhost:8080/"
    },
    "id": "8316cfcc-6699-458a-b3ed-9cede5993dc6",
    "jupyter": {
     "source_hidden": true
    },
    "outputId": "baf710d8-95d5-4022-8b33-336677e22dab"
   },
   "outputs": [
    {
     "name": "stdout",
     "output_type": "stream",
     "text": [
      "Domain\n",
      "@gmail.com               54684\n",
      "@yahoo.com                1622\n",
      "@icloud.com                986\n",
      "@gmail.com                 394\n",
      "@outlook.com               388\n",
      "                         ...  \n",
      "@karusa.co.za                1\n",
      "@UKDM.GOV.ZA                 1\n",
      "@platesolutions.co.za        1\n",
      "@purplemobile.co.za          1\n",
      "@madembeict.com              1\n",
      "Name: count, Length: 3260, dtype: int64\n"
     ]
    }
   ],
   "source": [
    "leads_domains = leads[\"Domain\"].value_counts() # most popular email domain enquiring\n",
    "leads_domains.to_csv(os.path.join(DATASET_PATH, \"Domains.csv\"), index=True)\n",
    "print(leads_domains)"
   ]
  },
  {
   "cell_type": "code",
   "execution_count": 115,
   "id": "65933635-7a78-4b7f-8f2a-9fa721c090e3",
   "metadata": {
    "colab": {
     "base_uri": "https://localhost:8080/"
    },
    "id": "65933635-7a78-4b7f-8f2a-9fa721c090e3",
    "jupyter": {
     "source_hidden": true
    },
    "outputId": "ffb2c2ff-d27b-49ed-d9cf-cf8ae1055389"
   },
   "outputs": [
    {
     "name": "stdout",
     "output_type": "stream",
     "text": [
      "CellPrefix\n",
      "82     7018\n",
      "72     6520\n",
      "76     5712\n",
      "83     5670\n",
      "79     5135\n",
      "       ... \n",
      "0+5       1\n",
      "263       1\n",
      "337       1\n",
      "268       1\n",
      "5         1\n",
      "Name: count, Length: 105, dtype: int64\n"
     ]
    }
   ],
   "source": [
    "cell_prefixes = leads[\"CellPrefix\"].value_counts()\n",
    "cell_prefixes.to_csv(os.path.join(DATASET_PATH, \"CellPrefixes.csv\"))\n",
    "print(cell_prefixes)"
   ]
  },
  {
   "cell_type": "code",
   "execution_count": 116,
   "id": "8737d578-177f-4f9c-8b1f-e442a3faf14d",
   "metadata": {
    "colab": {
     "base_uri": "https://localhost:8080/",
     "height": 0
    },
    "id": "8737d578-177f-4f9c-8b1f-e442a3faf14d",
    "jupyter": {
     "source_hidden": true
    },
    "outputId": "68ba3ba2-2e3d-45e7-8c26-9e4e6d64ff17"
   },
   "outputs": [
    {
     "data": {
      "image/png": "[encoded data removed]",
      "text/plain": [
       "<Figure size 1000x500 with 1 Axes>"
      ]
     },
     "metadata": {},
     "output_type": "display_data"
    }
   ],
   "source": [
    "leads_per_hour = leads[\"HourOfEnquiry\"].value_counts().sort_index()\n",
    "leads_per_hour.plot(kind=\"bar\", figsize=(10, 5))\n",
    "plt.xlabel(\"Hour of Enquiry\")\n",
    "plt.ylabel(\"Number of Enquiries\")\n",
    "plt.title(\"Popular Hours of Enquiry\")\n",
    "plt.xticks(rotation=0)\n",
    "plt.tight_layout()\n",
    "plt.show()"
   ]
  },
  {
   "cell_type": "code",
   "execution_count": 117,
   "id": "0e196211-a29c-44cc-bd7b-199731892fa5",
   "metadata": {
    "colab": {
     "base_uri": "https://localhost:8080/",
     "height": 0
    },
    "id": "0e196211-a29c-44cc-bd7b-199731892fa5",
    "jupyter": {
     "source_hidden": true
    },
    "outputId": "2a96e665-f9e8-4380-dc87-fd7a825d5d79"
   },
   "outputs": [
    {
     "data": {
      "image/png": "[encoded data removed]",
      "text/plain": [
       "<Figure size 1000x500 with 1 Axes>"
      ]
     },
     "metadata": {},
     "output_type": "display_data"
    }
   ],
   "source": [
    "# Keep only the rows where the vehicle was actually sold\n",
    "sold_leads = leads[leads[\"VehicleSold\"] == 1]\n",
    "unsold_leads = leads[leads[\"VehicleSold\"] == 0]\n",
    "\n",
    "# Count the number of sold vehicles for each hour, and sort by hour the lead was created\n",
    "sold_per_hour = sold_leads[\"HourOfEnquiry\"].value_counts().sort_index()\n",
    "sold_per_hour.plot(kind=\"bar\", figsize=(10, 5))\n",
    "\n",
    "plt.xlabel(\"Hour of Enquiry\")\n",
    "plt.ylabel(\"Vehicles Sold\")\n",
    "plt.title(\"Vehicles Sold by Hour of Enquiry\")\n",
    "plt.xticks(rotation=0)\n",
    "plt.tight_layout()\n",
    "plt.show()"
   ]
  },
  {
   "cell_type": "code",
   "execution_count": 118,
   "id": "61db5d40-2768-4f0f-b699-adf13e3d6de5",
   "metadata": {
    "colab": {
     "base_uri": "https://localhost:8080/",
     "height": 0
    },
    "id": "61db5d40-2768-4f0f-b699-adf13e3d6de5",
    "jupyter": {
     "source_hidden": true
    },
    "outputId": "08c5e086-8a42-42d5-f3c0-dd350550d715"
   },
   "outputs": [
    {
     "data": {
      "image/png": "[encoded data removed]",
      "text/plain": [
       "<Figure size 1000x500 with 1 Axes>"
      ]
     },
     "metadata": {},
     "output_type": "display_data"
    }
   ],
   "source": [
    "# count the number of leads for each day or sort it\n",
    "leads_per_day = leads[\"DayOfEnquiry\"].value_counts().sort_index()\n",
    "leads_per_day.plot(kind=\"bar\", figsize=(10, 5))\n",
    "plt.xlabel(\"Day of Enquiry\")\n",
    "plt.ylabel(\"Number of Leads\")\n",
    "plt.title(\"Popular Days of Enquiry\")\n",
    "plt.xticks(rotation=0)\n",
    "plt.tight_layout()\n",
    "plt.show()"
   ]
  },
  {
   "cell_type": "code",
   "execution_count": 119,
   "id": "b86eb189-40ff-4fb3-b30f-e2c5f516fec6",
   "metadata": {
    "colab": {
     "base_uri": "https://localhost:8080/",
     "height": 0
    },
    "id": "b86eb189-40ff-4fb3-b30f-e2c5f516fec6",
    "jupyter": {
     "source_hidden": true
    },
    "outputId": "c08b9162-f869-40f0-a477-5e4fe25153c1"
   },
   "outputs": [
    {
     "data": {
      "image/png": "[encoded data removed]",
      "text/plain": [
       "<Figure size 1000x500 with 1 Axes>"
      ]
     },
     "metadata": {},
     "output_type": "display_data"
    }
   ],
   "source": [
    "# get the number of sales as a result of the day of equiry\n",
    "sold_per_day = sold_leads[\"DayOfEnquiry\"].value_counts().sort_index()\n",
    "sold_per_day.plot(kind=\"bar\", figsize=(10, 5))\n",
    "plt.xlabel(\"Day of Enquiry\")\n",
    "plt.ylabel(\"Sold Vehicles\")\n",
    "plt.title(\"Vehicle Sold by Day of Enquiry\")\n",
    "plt.xticks(rotation=0)\n",
    "plt.tight_layout()\n",
    "plt.show()"
   ]
  },
  {
   "cell_type": "code",
   "execution_count": 120,
   "id": "5baa944c-fc01-45f8-a96e-1ef62ef72cfb",
   "metadata": {
    "colab": {
     "base_uri": "https://localhost:8080/",
     "height": 0
    },
    "id": "5baa944c-fc01-45f8-a96e-1ef62ef72cfb",
    "jupyter": {
     "source_hidden": true
    },
    "outputId": "be5ea57d-0ad8-4995-9984-f3d251202c61"
   },
   "outputs": [
    {
     "data": {
      "image/png": "[encoded data removed]",
      "text/plain": [
       "<Figure size 1000x500 with 1 Axes>"
      ]
     },
     "metadata": {},
     "output_type": "display_data"
    }
   ],
   "source": [
    "# get the number of sales as a result of the day of equiry\n",
    "sold_per_lead_type = sold_leads[\"LeadType\"].value_counts().sort_index()\n",
    "sold_per_lead_type.plot(kind=\"bar\", figsize=(10, 5))\n",
    "plt.xlabel(\"Lead Type\")\n",
    "plt.ylabel(\"Sold Vehicles\")\n",
    "plt.title(\"Vehicle Sold by Lead Type\")\n",
    "plt.tight_layout()\n",
    "plt.xticks(rotation=0)\n",
    "plt.show()"
   ]
  },
  {
   "cell_type": "code",
   "execution_count": 121,
   "id": "6f4b2d25-55d7-45ea-a6eb-15e79e7ffbb0",
   "metadata": {
    "colab": {
     "base_uri": "https://localhost:8080/",
     "height": 0
    },
    "id": "6f4b2d25-55d7-45ea-a6eb-15e79e7ffbb0",
    "jupyter": {
     "source_hidden": true
    },
    "outputId": "c509fa9a-8de6-4450-d8d1-01a09abd8ad4"
   },
   "outputs": [
    {
     "data": {
      "image/png": "[encoded data removed]",
      "text/plain": [
       "<Figure size 1000x500 with 1 Axes>"
      ]
     },
     "metadata": {},
     "output_type": "display_data"
    }
   ],
   "source": [
    "# get the number of sales as a result of the car seek\n",
    "sold_per_lead_type = sold_leads[\"Seek\"].value_counts().sort_index()\n",
    "sold_per_lead_type.plot(kind=\"bar\", figsize=(10, 5))\n",
    "plt.xlabel(\"Seek\")\n",
    "plt.ylabel(\"Sold Vehicles\")\n",
    "plt.title(\"Vehicle Sold by Seek\")\n",
    "plt.tight_layout()\n",
    "plt.xticks(rotation=0)\n",
    "plt.show()"
   ]
  },
  {
   "cell_type": "markdown",
   "id": "r3r84tx1aYiR",
   "metadata": {
    "id": "r3r84tx1aYiR"
   },
   "source": [
    "# Data Cleaning"
   ]
  },
  {
   "cell_type": "code",
   "execution_count": 122,
   "id": "XUnZcBHQRENI",
   "metadata": {
    "id": "XUnZcBHQRENI"
   },
   "outputs": [],
   "source": [
    "leads_copy = load_training_data()"
   ]
  },
  {
   "cell_type": "code",
   "execution_count": 123,
   "id": "8bd24435-18ea-417b-9ec6-8f4d3d3844de",
   "metadata": {},
   "outputs": [
    {
     "name": "stdout",
     "output_type": "stream",
     "text": [
      "Percentage of leads resulting in a vehicle sale: 4.40%\n"
     ]
    }
   ],
   "source": [
    "# gwtw number of leads that ended in a vehicle sale for training data \n",
    "sale_rate = leads_copy[\"VehicleSold\"].mean()\n",
    "print(\"Percentage of leads resulting in a vehicle sale: {:.2f}%\".format(sale_rate *100))"
   ]
  },
  {
   "cell_type": "code",
   "execution_count": 124,
   "id": "uCNjwP-IU-ne",
   "metadata": {
    "id": "uCNjwP-IU-ne"
   },
   "outputs": [],
   "source": [
    "leads_copy = leads_copy.drop(\"CustomerID\", axis=1) # Dropping the customer ID"
   ]
  },
  {
   "cell_type": "code",
   "execution_count": 125,
   "id": "8Y27WIlBakdj",
   "metadata": {
    "id": "8Y27WIlBakdj"
   },
   "outputs": [],
   "source": [
    "leads_copy = leads_copy.drop(\"LeadID\", axis=1) # Dropping Lead ID"
   ]
  },
  {
   "cell_type": "code",
   "execution_count": 126,
   "id": "t19E6DgqbA6L",
   "metadata": {
    "id": "t19E6DgqbA6L"
   },
   "outputs": [],
   "source": [
    "# Converting DTLeadCreated to type DateTime\n",
    "leads_copy[\"DTLeadCreated\"] = pd.to_datetime(leads_copy[\"DTLeadCreated\"])\n",
    "leads_copy[\"DayOfWeek\"] = leads_copy[\"DTLeadCreated\"].dt.dayofweek # Extracting The Day of the Week from the date"
   ]
  },
  {
   "cell_type": "markdown",
   "id": "KXtXkbqFEOVS",
   "metadata": {
    "id": "KXtXkbqFEOVS"
   },
   "source": []
  },
  {
   "cell_type": "code",
   "execution_count": 127,
   "id": "96kQQA9NcAI9",
   "metadata": {
    "colab": {
     "base_uri": "https://localhost:8080/",
     "height": 507
    },
    "id": "96kQQA9NcAI9",
    "outputId": "9ab81f40-1192-46f3-8b41-981021868dfa"
   },
   "outputs": [
    {
     "data": {
      "image/png": "[encoded data removed]",
      "text/plain": [
       "<Figure size 1000x500 with 1 Axes>"
      ]
     },
     "metadata": {},
     "output_type": "display_data"
    }
   ],
   "source": [
    "# count the number of leads for each day or sort it\n",
    "leads_per_day = leads_copy[\"DayOfWeek\"].value_counts().sort_index()\n",
    "leads_per_day.plot(kind=\"bar\", figsize=(10, 5))\n",
    "plt.xlabel(\"Day of Week\")\n",
    "plt.ylabel(\"Number of Leads\")\n",
    "plt.title(\"Popular Days of Week of Enquiry\")\n",
    "plt.xticks(rotation=0)\n",
    "plt.tight_layout()\n",
    "plt.show()"
   ]
  },
  {
   "cell_type": "code",
   "execution_count": 128,
   "id": "ZYW2UrCTdyBm",
   "metadata": {
    "colab": {
     "base_uri": "https://localhost:8080/",
     "height": 507
    },
    "id": "ZYW2UrCTdyBm",
    "outputId": "4727c732-277f-4e2d-cdce-0aeb14406df3"
   },
   "outputs": [
    {
     "data": {
      "image/png": "[encoded data removed]",
      "text/plain": [
       "<Figure size 1000x500 with 1 Axes>"
      ]
     },
     "metadata": {},
     "output_type": "display_data"
    }
   ],
   "source": [
    "# count the number of leads for each day or sort it\n",
    "sold_leads = leads_copy[leads_copy[\"VehicleSold\"] == 1]\n",
    "sold_per_day = sold_leads[\"DayOfWeek\"].value_counts().sort_index()\n",
    "sold_per_day.plot(kind=\"bar\", figsize=(10, 5))\n",
    "plt.xlabel(\"Day of Week\")\n",
    "plt.ylabel(\"Number of Leads\")\n",
    "plt.title(\"Popular Days of Week of Sold Leads\")\n",
    "plt.xticks(rotation=0)\n",
    "plt.tight_layout()\n",
    "plt.show()"
   ]
  },
  {
   "cell_type": "code",
   "execution_count": 129,
   "id": "3qURNKXUf7ih",
   "metadata": {
    "id": "3qURNKXUf7ih"
   },
   "outputs": [],
   "source": [
    "# Converting DRLeadAllocated to type DateTime\n",
    "leads_copy[\"DTLeadAllocated\"] = pd.to_datetime(leads_copy[\"DTLeadAllocated\"])\n",
    "\n",
    "# Calculating and storing the difference between lead creation and lead allocation\n",
    "leads_copy[\"AllocationTime\"] = (leads_copy[\"DTLeadAllocated\"] - leads_copy[\"DTLeadCreated\"]).dt.total_seconds()/60\n",
    "\n",
    "# Dropping date Lead Created and date lead allocated\n",
    "leads_copy = leads_copy.drop(\"DTLeadCreated\", axis=1)\n",
    "leads_copy = leads_copy.drop(\"DTLeadAllocated\", axis=1)"
   ]
  },
  {
   "cell_type": "code",
   "execution_count": 130,
   "id": "6MGI1-sBguet",
   "metadata": {
    "colab": {
     "base_uri": "https://localhost:8080/",
     "height": 507
    },
    "id": "6MGI1-sBguet",
    "outputId": "236f0545-6582-4960-9e33-55c4d7ceec9a"
   },
   "outputs": [
    {
     "data": {
      "image/png": "[encoded data removed]",
      "text/plain": [
       "<Figure size 1000x500 with 1 Axes>"
      ]
     },
     "metadata": {},
     "output_type": "display_data"
    }
   ],
   "source": [
    "sold_leads = leads_copy[leads_copy[\"VehicleSold\"] == 1]\n",
    "sold_per_day = sold_leads[\"AllocationTime\"].value_counts().sort_index()\n",
    "\n",
    "plt.figure(figsize=(10, 5))\n",
    "plt.scatter(sold_per_day.index, sold_per_day.values)\n",
    "plt.xlabel(\"Allocation Time\")\n",
    "plt.ylabel(\"Number of Leads\")\n",
    "plt.title(\"Popular Allocation Time of Sold Leads (Scatter)\")\n",
    "plt.xticks(rotation=0)\n",
    "plt.tight_layout()\n",
    "plt.show()"
   ]
  },
  {
   "cell_type": "code",
   "execution_count": 131,
   "id": "3TBCQjCdhZ04",
   "metadata": {
    "colab": {
     "base_uri": "https://localhost:8080/"
    },
    "id": "3TBCQjCdhZ04",
    "outputId": "ebcf300d-2774-4bfa-f59d-059b6b558747"
   },
   "outputs": [
    {
     "name": "stdout",
     "output_type": "stream",
     "text": [
      "AllocationTime\n",
      "0.0       1127\n",
      "1.0        273\n",
      "2.0        144\n",
      "5.0         74\n",
      "3.0         68\n",
      "          ... \n",
      "2035.0       1\n",
      "2481.0       1\n",
      "2431.0       1\n",
      "229.0        1\n",
      "1263.0       1\n",
      "Name: count, Length: 792, dtype: int64\n"
     ]
    }
   ],
   "source": [
    "print(sold_leads[\"AllocationTime\"].value_counts())"
   ]
  },
  {
   "cell_type": "code",
   "execution_count": 132,
   "id": "uGYpSFE7jDQ5",
   "metadata": {
    "id": "uGYpSFE7jDQ5"
   },
   "outputs": [],
   "source": [
    "# Method to extract the deaer locations from the dealer name\n",
    "def get_dealer_location(dealer_string):\n",
    "\n",
    "    #remove the suffix and change to lowercase\n",
    "    dealer_string = dealer_string.lower().split()\n",
    "\n",
    "    if \"multifranchise\" in dealer_string:\n",
    "        dealer_name = dealer_string[0]\n",
    "\n",
    "        # check the common two word cities at the end\n",
    "        if dealer_name == \"cape\" or dealer_name == \"east\" or dealer_name == \"west\":\n",
    "            dealer_name = dealer_name + \" \" + dealer_string[1]\n",
    "\n",
    "    elif \"motus\" in dealer_string:\n",
    "        dealer_name = dealer_string[-1]\n",
    "\n",
    "        # check the common two word cities at the end\n",
    "        if dealer_name == \"town\" or dealer_name == \"rand\":\n",
    "            dealer_name = dealer_string[-2] + \" \" + dealer_name\n",
    "\n",
    "    else:\n",
    "        dealer_name = dealer_string[-1]\n",
    "\n",
    "        # check the common two word cities at the end\n",
    "        if dealer_name == \"town\" or dealer_name == \"rand\":\n",
    "            dealer_name = dealer_string[-2] + \" \" + dealer_name\n",
    "\n",
    "    # check if a number was found\n",
    "    if dealer_name.isdigit():\n",
    "        return dealer_string[-3]\n",
    "    else:\n",
    "        return dealer_name\n"
   ]
  },
  {
   "cell_type": "code",
   "execution_count": 133,
   "id": "DqFYFbZ3opaB",
   "metadata": {
    "colab": {
     "base_uri": "https://localhost:8080/"
    },
    "id": "DqFYFbZ3opaB",
    "outputId": "98684e92-3ee3-4f3d-f615-046a6f0b4127"
   },
   "outputs": [
    {
     "name": "stdout",
     "output_type": "stream",
     "text": [
      "                           Dealer  DealerCity\n",
      "0           Motus Chery Germiston   germiston\n",
      "1      Renault Northcliff - 70045  northcliff\n",
      "2   Durban Multifranchise - 70111      durban\n",
      "3      Lindsay Saker VW Germiston   germiston\n",
      "4   Durban Multifranchise - 70111      durban\n",
      "5                  Hyundai Menlyn      menlyn\n",
      "6      Renault Northcliff - 70045  northcliff\n",
      "7  Alberton Multifranchise -70051    alberton\n",
      "8          Motus Toyota Cape Gate        gate\n",
      "9           Motus Chery Polokwane   polokwane\n"
     ]
    }
   ],
   "source": [
    "# Extract the Dealer's city\n",
    "leads_copy[\"DealerCity\"] =leads_copy[\"Dealer\"].apply(get_dealer_location)\n",
    "print(leads_copy[[\"Dealer\", \"DealerCity\"]].head(10))"
   ]
  },
  {
   "cell_type": "code",
   "execution_count": 134,
   "id": "iCM3RQhbtdtc",
   "metadata": {
    "colab": {
     "base_uri": "https://localhost:8080/",
     "height": 1000
    },
    "id": "iCM3RQhbtdtc",
    "outputId": "a0e097d6-9f60-4c12-b898-9c5fb3e9dc39"
   },
   "outputs": [
    {
     "data": {
      "text/plain": [
       "DealerCity\n",
       "vereeniging     4355\n",
       "durban          3361\n",
       "menlyn          3361\n",
       "nelspruit       3331\n",
       "alberton        3285\n",
       "fourways        3207\n",
       "east rand       3115\n",
       "bryanston       3038\n",
       "germiston       3000\n",
       "bloemfontein    2514\n",
       "northcliff      2437\n",
       "park            2371\n",
       "bedfordview     2182\n",
       "cape town       2112\n",
       "polokwane       2062\n",
       "city            1895\n",
       "centurion       1845\n",
       "roodepoort      1747\n",
       "rustenburg      1602\n",
       "pinetown        1599\n",
       "virtual         1472\n",
       "midrand         1447\n",
       "table           1389\n",
       "tokai           1132\n",
       "zambezi         1117\n",
       "parktown        1108\n",
       "mall            1098\n",
       "west rand       1079\n",
       "parow           1060\n",
       "sandton         1050\n",
       "george           977\n",
       "gate             891\n",
       "tygervalley      754\n",
       "strijdompark     665\n",
       "edenvale         648\n",
       "isando           633\n",
       "tzaneen          552\n",
       "river            527\n",
       "kimberley        443\n",
       "street           383\n",
       "kroonstad        362\n",
       "eiland           353\n",
       "culemborg        311\n",
       "wonderwaters     269\n",
       "kloof)           258\n",
       "welkom           215\n",
       "glen             208\n",
       "(bryanston)      151\n",
       "boksburg         114\n",
       "clearwater       104\n",
       "online            97\n",
       "Name: count, dtype: int64"
      ]
     },
     "execution_count": 134,
     "metadata": {},
     "output_type": "execute_result"
    }
   ],
   "source": [
    "leads_copy[\"DealerCity\"].value_counts()"
   ]
  },
  {
   "cell_type": "code",
   "execution_count": 135,
   "id": "Hcj5bJfj3YjU",
   "metadata": {
    "id": "Hcj5bJfj3YjU"
   },
   "outputs": [],
   "source": [
    "# Convert String features into type Category and float for the scikit Model to work with\n",
    "leads_copy[\"Dealer\"] = leads_copy[\"Dealer\"].astype(\"category\").cat.codes.astype(\"float\")\n",
    "leads_copy[\"DealerCity\"] = leads_copy[\"DealerCity\"].astype(\"category\").cat.codes.astype(\"float\")"
   ]
  },
  {
   "cell_type": "code",
   "execution_count": 136,
   "id": "JZFUVMhL3rxE",
   "metadata": {
    "colab": {
     "base_uri": "https://localhost:8080/"
    },
    "id": "JZFUVMhL3rxE",
    "outputId": "c62eedb5-9ebf-4339-84a4-ba42f5f32016"
   },
   "outputs": [
    {
     "name": "stdout",
     "output_type": "stream",
     "text": [
      "   Dealer  DealerCity\n",
      "0    47.0        18.0\n",
      "1   107.0        28.0\n",
      "2    12.0        11.0\n",
      "3    31.0        18.0\n",
      "4    12.0        11.0\n",
      "5    16.0        25.0\n",
      "6   107.0        28.0\n",
      "7     0.0         1.0\n",
      "8    96.0        16.0\n",
      "9    49.0        34.0\n"
     ]
    }
   ],
   "source": [
    "print(leads_copy[[\"Dealer\", \"DealerCity\"]].head(10))"
   ]
  },
  {
   "cell_type": "code",
   "execution_count": 137,
   "id": "dMi4Gt835Gav",
   "metadata": {
    "id": "dMi4Gt835Gav"
   },
   "outputs": [],
   "source": [
    "# Convert String features into type Category and float for the scikit Model to work with\n",
    "leads_copy[\"LeadType\"] = leads_copy[\"LeadType\"].astype(\"category\").cat.codes.astype(\"float\")\n",
    "leads_copy[\"LeadSource\"] = leads_copy[\"LeadType\"].astype(\"category\").cat.codes.astype(\"float\")"
   ]
  },
  {
   "cell_type": "code",
   "execution_count": 138,
   "id": "-mN9400M5pPE",
   "metadata": {
    "id": "-mN9400M5pPE"
   },
   "outputs": [],
   "source": [
    "# Convert String features into type Category and float for the scikit Model to work with\n",
    "leads_copy[\"Seek\"] = leads_copy[\"Seek\"].astype(\"category\").cat.codes.astype(\"float\")"
   ]
  },
  {
   "cell_type": "code",
   "execution_count": 139,
   "id": "ULkEYUK-8595",
   "metadata": {
    "id": "ULkEYUK-8595"
   },
   "outputs": [],
   "source": [
    "# Method to get cleaned InterestMake\n",
    "def clean_interest_make(interest_make):\n",
    "  interest_make = str(interest_make).upper().split(\" \")\n",
    "  interest_make = interest_make[0].split(\"-\")\n",
    "  return interest_make[0]\n"
   ]
  },
  {
   "cell_type": "code",
   "execution_count": 140,
   "id": "Hvh0gQ5W6Ioe",
   "metadata": {
    "colab": {
     "base_uri": "https://localhost:8080/"
    },
    "id": "Hvh0gQ5W6Ioe",
    "outputId": "44b543d5-e137-44cc-af24-b7d803d6f89b"
   },
   "outputs": [
    {
     "name": "stdout",
     "output_type": "stream",
     "text": [
      "InterestMake\n",
      "Renault            16667\n",
      "Volkswagen          6512\n",
      "Toyota              5146\n",
      "Hyundai             3646\n",
      "KIA                 3135\n",
      "                   ...  \n",
      "ISUZU OFCOURSE!        1\n",
      "Izuzu                  1\n",
      "RAV 4                  1\n",
      "Toyota RAV4            1\n",
      "Yaris                  1\n",
      "Name: count, Length: 353, dtype: int64\n"
     ]
    }
   ],
   "source": [
    "print(leads_copy[\"InterestMake\"].value_counts())"
   ]
  },
  {
   "cell_type": "code",
   "execution_count": 141,
   "id": "u9QGJ--B_GEv",
   "metadata": {
    "id": "u9QGJ--B_GEv"
   },
   "outputs": [],
   "source": [
    "# Clean InterestMake feature\n",
    "leads_copy[\"InterestMake\"] = leads_copy[\"InterestMake\"].apply(clean_interest_make)"
   ]
  },
  {
   "cell_type": "code",
   "execution_count": 142,
   "id": "ZH97yKFl7KKH",
   "metadata": {
    "colab": {
     "base_uri": "https://localhost:8080/"
    },
    "id": "ZH97yKFl7KKH",
    "outputId": "d8494ee7-dd69-4160-a2fa-fc98f3e76bc1"
   },
   "outputs": [
    {
     "name": "stdout",
     "output_type": "stream",
     "text": [
      "InterestMake\n",
      "RENAULT       20880\n",
      "VOLKSWAGEN     8641\n",
      "TOYOTA         7289\n",
      "KIA            7046\n",
      "HYUNDAI        4575\n",
      "              ...  \n",
      "CROSS             1\n",
      "CH                1\n",
      "BAKKKIE           1\n",
      "NISSSAN           1\n",
      "VBA               1\n",
      "Name: count, Length: 154, dtype: int64\n"
     ]
    }
   ],
   "source": [
    "print(leads_copy[\"InterestMake\"].value_counts())"
   ]
  },
  {
   "cell_type": "code",
   "execution_count": 143,
   "id": "BYFvegVG7YMJ",
   "metadata": {
    "colab": {
     "base_uri": "https://localhost:8080/"
    },
    "id": "BYFvegVG7YMJ",
    "outputId": "23672388-606c-477d-bbf0-d39cb2cb4fbe"
   },
   "outputs": [
    {
     "name": "stdout",
     "output_type": "stream",
     "text": [
      "InterestMake\n",
      "RENAULT        20880\n",
      "VOLKSWAGEN      8641\n",
      "TOYOTA          7289\n",
      "KIA             7046\n",
      "HYUNDAI         4575\n",
      "FORD            3049\n",
      "NISSAN          2529\n",
      "HONDA           2332\n",
      "MITSUBISHI      2022\n",
      "MERCEDES        1747\n",
      "AUDI            1295\n",
      "NAN             1230\n",
      "CHERY           1229\n",
      "ISUZU           1157\n",
      "USED             869\n",
      "BMW              773\n",
      "MAZDA            616\n",
      "GWM              568\n",
      "SUZUKI           564\n",
      "JETOUR           563\n",
      "MG               510\n",
      "VW               461\n",
      "HAVAL            457\n",
      "OMODA            426\n",
      "JAECOO           262\n",
      "OPEL             254\n",
      "SUBARU           188\n",
      "CITROEN          181\n",
      "UNDEFINED        156\n",
      "JEEP             150\n",
      "LDV              116\n",
      "LAND             112\n",
      "MAHINDRA         105\n",
      "VOLVO             88\n",
      "PEUGEOT           87\n",
      "CHEVROLET         83\n",
      "FIAT              76\n",
      "MINI              69\n",
      "RENUALT           66\n",
      "DATSUN            64\n",
      "HYUNDAI;          26\n",
      "JAGUAR            24\n",
      "JAC               21\n",
      "FORTUNER          16\n",
      "LEXUS             15\n",
      "ABARTH            15\n",
      "ALFA              15\n",
      "KIA;              14\n",
      "ASHOK             14\n",
      "BAIC              12\n",
      "MAGNITE           12\n",
      "PORSCHE           11\n",
      "ASIA               9\n",
      "COROLLA            9\n",
      "ARORA              8\n",
      "PRE                8\n",
      "HILUX              6\n",
      "H6                 6\n",
      "JOLION             5\n",
      "RAV                5\n",
      "PAJERO             5\n",
      "NAVARA             4\n",
      "STARLET            4\n",
      "APRILIA            4\n",
      "CITROËN            4\n",
      "ARCTIC             4\n",
      "2023               4\n",
      "ASTON              4\n",
      "NP                 3\n",
      "ECLIPSE            3\n",
      "2018               3\n",
      "ALMERA             3\n",
      "XTRAIL             3\n",
      "URBAN              3\n",
      "NP200              3\n",
      "MITSUBISH          3\n",
      "PRADO              3\n",
      "CLAAS              3\n",
      "ANGLO              2\n",
      "AMC                2\n",
      "IZUSU              2\n",
      "ASX                2\n",
      "FOTON              2\n",
      "DUCATI             2\n",
      "DATSAN             2\n",
      "POLO               2\n",
      "YARIS              2\n",
      "ETIOS              2\n",
      "MICRA              2\n",
      "QASHQAI            1\n",
      "TIGGO              1\n",
      "BENNELLI           1\n",
      "MITSHIBUSHI        1\n",
      "SLE                1\n",
      "AMBIDEX            1\n",
      "LANDCRUISER        1\n",
      "XF                 1\n",
      "330I               1\n",
      "NISSAIN            1\n",
      "XPANDER            1\n",
      "BARUM              1\n",
      "MITSUISHI          1\n",
      "E270               1\n",
      "AVANZA             1\n",
      "FARMTRAC           1\n",
      "ECLASS             1\n",
      "QUADRO             1\n",
      "DUTSUN             1\n",
      "GR                 1\n",
      "H                  1\n",
      "HUYNDAI            1\n",
      "FJ                 1\n",
      "BAKKIE             1\n",
      "CX                 1\n",
      "RUMION             1\n",
      "ROVER              1\n",
      "ALA                1\n",
      "TREND              1\n",
      "GLA200             1\n",
      "MAZDA5             1\n",
      "1.9                1\n",
      "TRITON             1\n",
      "ALFAROMEO          1\n",
      "1998               1\n",
      "MAZDA3             1\n",
      "CHERRY             1\n",
      "HYUNDIA            1\n",
      "OUTLANDER          1\n",
      "TOYOYA             1\n",
      "MITSUBISI          1\n",
      "CORALLA            1\n",
      "ADLY               1\n",
      "ADRENO             1\n",
      "GAZ                1\n",
      "2022               1\n",
      "TRIUMPH            1\n",
      "2019               1\n",
      "XPANDA             1\n",
      "IZUZU              1\n",
      "RUSH               1\n",
      "JUKE               1\n",
      "KWID               1\n",
      "MUX                1\n",
      "IAN                1\n",
      "MITSHIBISHI        1\n",
      "X                  1\n",
      "C200               1\n",
      "X4                 1\n",
      "I20                1\n",
      "CROSS              1\n",
      "CH                 1\n",
      "BAKKKIE            1\n",
      "NISSSAN            1\n",
      "VBA                1\n",
      "Name: count, dtype: int64\n"
     ]
    }
   ],
   "source": [
    "with pd.option_context('display.max_rows', None):\n",
    "    print(leads_copy[\"InterestMake\"].value_counts())"
   ]
  },
  {
   "cell_type": "code",
   "execution_count": 144,
   "id": "IIoyiGMtBZmR",
   "metadata": {
    "id": "IIoyiGMtBZmR"
   },
   "outputs": [],
   "source": [
    "# Convert String features into type Category and float for the scikit Model to work with\n",
    "leads_copy[\"InterestMake\"] = leads_copy[\"InterestMake\"].astype(\"category\").cat.codes.astype(\"float\")"
   ]
  },
  {
   "cell_type": "code",
   "execution_count": 145,
   "id": "dzRJaeSZDvJc",
   "metadata": {
    "id": "dzRJaeSZDvJc"
   },
   "outputs": [],
   "source": [
    "# Method to only get the first word in the InterestModel feature\n",
    "def clean_interest_model(interest_model):\n",
    "  interest_model=str(interest_model).upper().split(\" \")\n",
    "\n",
    "  return interest_model[0]"
   ]
  },
  {
   "cell_type": "code",
   "execution_count": 146,
   "id": "V80dOh1jF7qH",
   "metadata": {
    "id": "V80dOh1jF7qH"
   },
   "outputs": [],
   "source": [
    "# Clean the InterestModel feature\n",
    "leads_copy[\"InterestModel\"] = leads_copy[\"InterestModel\"].apply(clean_interest_model)"
   ]
  },
  {
   "cell_type": "code",
   "execution_count": 147,
   "id": "JtQ6hOIiHDJs",
   "metadata": {
    "colab": {
     "base_uri": "https://localhost:8080/"
    },
    "id": "JtQ6hOIiHDJs",
    "outputId": "eb90226f-e363-4365-f798-d70c8b38616d"
   },
   "outputs": [
    {
     "name": "stdout",
     "output_type": "stream",
     "text": [
      "InterestModel\n",
      "KWID          7873\n",
      "NAN           6845\n",
      "POLO          6094\n",
      "TRIBER        3543\n",
      "SONET         2138\n",
      "              ... \n",
      "CAROLLA          1\n",
      "LANDCRUISE       1\n",
      "ALLION           1\n",
      "XXX              1\n",
      "EQS              1\n",
      "Name: count, Length: 783, dtype: int64\n"
     ]
    }
   ],
   "source": [
    "print(leads_copy[\"InterestModel\"].value_counts())"
   ]
  },
  {
   "cell_type": "code",
   "execution_count": 148,
   "id": "cO4zd4cWIxnd",
   "metadata": {
    "colab": {
     "base_uri": "https://localhost:8080/"
    },
    "id": "cO4zd4cWIxnd",
    "outputId": "74f3c0b0-c457-4b46-a364-326c675f29f4"
   },
   "outputs": [
    {
     "name": "stdout",
     "output_type": "stream",
     "text": [
      "InterestModel\n",
      "KWID          7873\n",
      "NAN           6845\n",
      "POLO          6094\n",
      "TRIBER        3543\n",
      "SONET         2138\n",
      "KIGER         2092\n",
      "RANGER        1598\n",
      "PICANTO       1541\n",
      "KOLEOS        1525\n",
      "GRAND         1471\n",
      "COROLLA       1279\n",
      "TIGGO         1194\n",
      "HILUX         1064\n",
      "SELTOS         926\n",
      "MAGNITE        909\n",
      "AMAZE          858\n",
      "2023           783\n",
      "STARLET        724\n",
      "CLIO           711\n",
      "RENAULT        669\n",
      "I20            653\n",
      "D-MAX          632\n",
      "XPANDER        602\n",
      "DUSTER         592\n",
      "THE            575\n",
      "FORTUNER       557\n",
      "TIGUAN         549\n",
      "T-CROSS        519\n",
      "GOLF           514\n",
      "EXTER          493\n",
      "SPECIAL        486\n",
      "NAVARA         477\n",
      "NP200          400\n",
      "ENQUIRE        383\n",
      "C5             382\n",
      "URBAN          360\n",
      "AMAROK         350\n",
      "ECOSPORT       328\n",
      "MG             328\n",
      "HAVAL          308\n",
      "A3             296\n",
      "DIESEL         290\n",
      "Q3             269\n",
      "XR190CT        263\n",
      "J7             262\n",
      "CAPTUR         257\n",
      "SWIFT          251\n",
      "CRETA          250\n",
      "QUANTUM        249\n",
      "ELEVATE        246\n",
      "RUMION         242\n",
      "SESFIKILE      241\n",
      "TOYOTA         238\n",
      "SPORTAGE       232\n",
      "VITZ           227\n",
      "SES'FIKILE     227\n",
      "DASHING        226\n",
      "JOLION         225\n",
      "TRITON         224\n",
      "VENUE          212\n",
      "A              212\n",
      "GLC            208\n",
      "PAJERO         202\n",
      "PEGAS          198\n",
      "EVEREST        196\n",
      "ECLIPSE        196\n",
      "NEXT-GEN       191\n",
      "OUTLANDER      176\n",
      "X3             174\n",
      "RIO            167\n",
      "SANDERO        166\n",
      "YARIS          165\n",
      "C-CLASS        160\n",
      "ASX            158\n",
      "X70            154\n",
      "A1             153\n",
      "CROSSTREK      151\n",
      "T-ROC          150\n",
      "C              144\n",
      "FIESTA         143\n",
      "ETIOS          141\n",
      "C3             139\n",
      "H-100          135\n",
      "CORSA          134\n",
      "GLE            134\n",
      "JETTA          134\n",
      "CADDY          132\n",
      "TAIGO          131\n",
      "RAV4           131\n",
      "3              130\n",
      "I10            129\n",
      "FIGO           127\n",
      "P-SERIES       125\n",
      "CX-5           120\n",
      "H6             120\n",
      "A-CLASS        117\n",
      "Q5             113\n",
      "TERRITORY      110\n",
      "MU-X           105\n",
      "GLA            104\n",
      "Name: count, dtype: int64\n"
     ]
    }
   ],
   "source": [
    "with pd.option_context('display.max_rows', None):\n",
    "  print(leads_copy[\"InterestModel\"].value_counts().head(100))"
   ]
  },
  {
   "cell_type": "code",
   "execution_count": 149,
   "id": "HywA7AGbJnqU",
   "metadata": {
    "id": "HywA7AGbJnqU"
   },
   "outputs": [],
   "source": [
    "# Convert String features into type Category and float for the scikit Model to work with\n",
    "leads_copy[\"InterestModel\"] = leads_copy[\"InterestModel\"].astype(\"category\").cat.codes.astype(\"float\")"
   ]
  },
  {
   "cell_type": "code",
   "execution_count": 150,
   "id": "ei4WerGGdp6P",
   "metadata": {
    "id": "ei4WerGGdp6P"
   },
   "outputs": [],
   "source": [
    "# Method to check if the name is a full name\n",
    "def is_full_name(full_name):\n",
    "  full_name = str(full_name).split(\" \")\n",
    "\n",
    "  if len(full_name) < 2:\n",
    "    return 0\n",
    "  else:\n",
    "    return 1"
   ]
  },
  {
   "cell_type": "code",
   "execution_count": 151,
   "id": "3UUlvgK0i-4K",
   "metadata": {
    "id": "3UUlvgK0i-4K"
   },
   "outputs": [],
   "source": [
    "# Check if the name given is a valid full name\n",
    "leads_copy[\"IsFullName\"] = leads_copy[\"OBSFullName\"].apply(is_full_name)\n",
    "\n",
    "# Drop OBSFUllName\n",
    "leads_copy = leads_copy.drop(\"OBSFullName\", axis=1)"
   ]
  },
  {
   "cell_type": "code",
   "execution_count": 152,
   "id": "Pnm80Jf2km7y",
   "metadata": {
    "id": "Pnm80Jf2km7y"
   },
   "outputs": [],
   "source": [
    "# Drop OBSEmail\n",
    "leads_copy = leads_copy.drop(\"OBSEmail\", axis=1)"
   ]
  },
  {
   "cell_type": "code",
   "execution_count": 153,
   "id": "KF15VHjelVKu",
   "metadata": {
    "colab": {
     "base_uri": "https://localhost:8080/",
     "height": 490
    },
    "id": "KF15VHjelVKu",
    "outputId": "eb5127c5-2bae-4bb9-f06a-4dc68d3dadd9"
   },
   "outputs": [
    {
     "data": {
      "text/plain": [
       "Domain\n",
       "@gmail.com              2386\n",
       "@yahoo.com                95\n",
       "@icloud.com               64\n",
       "@hotmail.com              30\n",
       "@gmail.com                29\n",
       "                        ... \n",
       "@phayhu                    1\n",
       "@gmail.com.za              1\n",
       "@selfbundedtanks.com       1\n",
       "@openserve.co.za           1\n",
       "@ccbagroup.com             1\n",
       "Name: count, Length: 316, dtype: int64"
      ]
     },
     "execution_count": 153,
     "metadata": {},
     "output_type": "execute_result"
    }
   ],
   "source": [
    "# show the domains of customers who bought a vehicle\n",
    "sold_leads[\"Domain\"].value_counts()"
   ]
  },
  {
   "cell_type": "code",
   "execution_count": 154,
   "id": "4s4p1ZYUlZeR",
   "metadata": {
    "id": "4s4p1ZYUlZeR"
   },
   "outputs": [],
   "source": [
    "# retrieves the company of the email domain\n",
    "def retrieve_email_company(email_domain):\n",
    "    if pd.isna(email_domain):\n",
    "        return \"UNKNOWN\"\n",
    "    domain_array = email_domain.split(\".\")\n",
    "    return domain_array[0]\n",
    "\n",
    "# retrieves the TLD of the email domain\n",
    "def retrieve_email_tld(email_domain):\n",
    "    if pd.isna(email_domain):\n",
    "        return \"UNKNOWN\"\n",
    "    domain_array = email_domain.split(\".\")\n",
    "    return \".\".join(domain_array[1:])"
   ]
  },
  {
   "cell_type": "code",
   "execution_count": 155,
   "id": "bJtikfpUlf5X",
   "metadata": {
    "colab": {
     "base_uri": "https://localhost:8080/"
    },
    "id": "bJtikfpUlf5X",
    "outputId": "03f2a7b1-c781-4b6a-f34d-7b8ae8f71baa"
   },
   "outputs": [
    {
     "name": "stdout",
     "output_type": "stream",
     "text": [
      "DomainCompany\n",
      "@gmail            55639\n",
      "UNKNOWN            7787\n",
      "@yahoo             1778\n",
      "@icloud            1000\n",
      "@hotmail            449\n",
      "                  ...  \n",
      "@habarimedia          1\n",
      "@gen4foods            1\n",
      "@urbansoul            1\n",
      "@securitas-rsa        1\n",
      "@madembeict           1\n",
      "Name: count, Length: 2962, dtype: int64\n"
     ]
    }
   ],
   "source": [
    "# Extract the comapny of controlling the email domain\n",
    "leads_copy[\"DomainCompany\"] = leads_copy[\"Domain\"].apply(retrieve_email_company)\n",
    "print(leads_copy[\"DomainCompany\"].value_counts())\n",
    "\n",
    "# Convert the string feature to a usable fload value\n",
    "leads_copy[\"DomainCompany\"] = leads_copy[\"DomainCompany\"].astype(\"category\").cat.codes.astype(\"float\")\n"
   ]
  },
  {
   "cell_type": "code",
   "execution_count": 156,
   "id": "vsvWUVnVlr9-",
   "metadata": {
    "colab": {
     "base_uri": "https://localhost:8080/"
    },
    "id": "vsvWUVnVlr9-",
    "outputId": "25d8de96-472d-47e8-8909-76d98b4e39d7"
   },
   "outputs": [
    {
     "name": "stdout",
     "output_type": "stream",
     "text": [
      "DomainTLD\n",
      "com             59843\n",
      "UNKNOWN          7787\n",
      "co.za            3262\n",
      "com               417\n",
      "gov.za            283\n",
      "                ...  \n",
      "comtr               1\n",
      "zco.za              1\n",
      "sg                  1\n",
      "rlowrbqcnlvr        1\n",
      "g.cm                1\n",
      "Name: count, Length: 316, dtype: int64\n"
     ]
    }
   ],
   "source": [
    "# Extract the TLD from the Domain\n",
    "leads_copy[\"DomainTLD\"] = leads_copy[\"Domain\"].apply(retrieve_email_tld)\n",
    "print(leads_copy[\"DomainTLD\"].value_counts())\n",
    "\n",
    "# Convert string feature into usable float value\n",
    "leads_copy[\"DomainTLD\"] = leads_copy[\"DomainTLD\"].astype(\"category\").cat.codes.astype(\"float\")\n"
   ]
  },
  {
   "cell_type": "code",
   "execution_count": 157,
   "id": "p0ffbZJhmMBV",
   "metadata": {
    "colab": {
     "base_uri": "https://localhost:8080/"
    },
    "id": "p0ffbZJhmMBV",
    "outputId": "bb108d73-bd8d-45b5-f08d-639631321f4a"
   },
   "outputs": [
    {
     "name": "stdout",
     "output_type": "stream",
     "text": [
      "Sold Missing Email: (0, 21), All Sold: (3228, 21)\n"
     ]
    }
   ],
   "source": [
    "# check if there were sold vehicle with a the email missing\n",
    "sold_leads = leads_copy[leads_copy[\"VehicleSold\"] == 1]\n",
    "sold_missing_email = sold_leads[sold_leads[\"DomainCompany\"] == \"UNKNOWN\"]\n",
    "print(f\"Sold Missing Email: {sold_missing_email.shape}, All Sold: {sold_leads.shape}\")"
   ]
  },
  {
   "cell_type": "code",
   "execution_count": 158,
   "id": "KTa0KMgOmfky",
   "metadata": {
    "id": "KTa0KMgOmfky"
   },
   "outputs": [],
   "source": [
    "# Drop domain feature\n",
    "leads_copy = leads_copy.drop(\"Domain\", axis=1)"
   ]
  },
  {
   "cell_type": "code",
   "execution_count": 159,
   "id": "0mt1bB0pmlJk",
   "metadata": {
    "id": "0mt1bB0pmlJk"
   },
   "outputs": [],
   "source": [
    "# check if a cellphone prefix is valid\n",
    "def cell_prefix_is_valid(cell_prefix):\n",
    "    # check if does not contain characters\n",
    "    if not cell_prefix.isdigit():\n",
    "        return 0\n",
    "    else:\n",
    "        # check if it is 2 digits\n",
    "        if len(cell_prefix) != 2:\n",
    "            return 0\n",
    "        else:\n",
    "            return 1"
   ]
  },
  {
   "cell_type": "code",
   "execution_count": 160,
   "id": "UQ7MAtNbmoUv",
   "metadata": {
    "colab": {
     "base_uri": "https://localhost:8080/",
     "height": 269
    },
    "id": "UQ7MAtNbmoUv",
    "outputId": "9b8aaaeb-8f3e-4a35-85ab-12e32aebf921"
   },
   "outputs": [
    {
     "data": {
      "text/html": [
       "<div>\n",
       "<style scoped>\n",
       "    .dataframe tbody tr th:only-of-type {\n",
       "        vertical-align: middle;\n",
       "    }\n",
       "\n",
       "    .dataframe tbody tr th {\n",
       "        vertical-align: top;\n",
       "    }\n",
       "\n",
       "    .dataframe thead th {\n",
       "        text-align: right;\n",
       "    }\n",
       "</style>\n",
       "<table border=\"1\" class=\"dataframe\">\n",
       "  <thead>\n",
       "    <tr style=\"text-align: right;\">\n",
       "      <th></th>\n",
       "      <th>CellPrefix</th>\n",
       "      <th>CellPhoneNoLength</th>\n",
       "      <th>VehicleSold</th>\n",
       "    </tr>\n",
       "  </thead>\n",
       "  <tbody>\n",
       "    <tr>\n",
       "      <th>11419</th>\n",
       "      <td>0.0</td>\n",
       "      <td>9</td>\n",
       "      <td>1</td>\n",
       "    </tr>\n",
       "    <tr>\n",
       "      <th>11833</th>\n",
       "      <td>0.0</td>\n",
       "      <td>9</td>\n",
       "      <td>1</td>\n",
       "    </tr>\n",
       "    <tr>\n",
       "      <th>22510</th>\n",
       "      <td>3.0</td>\n",
       "      <td>10</td>\n",
       "      <td>1</td>\n",
       "    </tr>\n",
       "    <tr>\n",
       "      <th>24316</th>\n",
       "      <td>1.0</td>\n",
       "      <td>10</td>\n",
       "      <td>1</td>\n",
       "    </tr>\n",
       "    <tr>\n",
       "      <th>49250</th>\n",
       "      <td>0.0</td>\n",
       "      <td>9</td>\n",
       "      <td>1</td>\n",
       "    </tr>\n",
       "    <tr>\n",
       "      <th>50680</th>\n",
       "      <td>0.0</td>\n",
       "      <td>1</td>\n",
       "      <td>1</td>\n",
       "    </tr>\n",
       "    <tr>\n",
       "      <th>54707</th>\n",
       "      <td>2.0</td>\n",
       "      <td>10</td>\n",
       "      <td>1</td>\n",
       "    </tr>\n",
       "  </tbody>\n",
       "</table>\n",
       "</div>"
      ],
      "text/plain": [
       "       CellPrefix  CellPhoneNoLength  VehicleSold\n",
       "11419         0.0                  9            1\n",
       "11833         0.0                  9            1\n",
       "22510         3.0                 10            1\n",
       "24316         1.0                 10            1\n",
       "49250         0.0                  9            1\n",
       "50680         0.0                  1            1\n",
       "54707         2.0                 10            1"
      ]
     },
     "execution_count": 160,
     "metadata": {},
     "output_type": "execute_result"
    }
   ],
   "source": [
    "# Check if the cellprefix is valid\n",
    "leads_copy[\"ValidPrefix\"] = leads_copy[\"CellPrefix\"].apply(cell_prefix_is_valid)\n",
    "\n",
    "# Convert string feature into usable float value\n",
    "leads_copy[\"CellPrefix\"] = leads_copy[\"CellPrefix\"].astype(\"category\").cat.codes.astype(\"float\")\n",
    "\n",
    "# check if any invalid cell prefixes purchased a vehicle\n",
    "sold_invalid_prefixes = leads_copy[(leads_copy[\"ValidPrefix\"] == 0) & (leads_copy[\"VehicleSold\"] == 1)]\n",
    "sold_invalid_prefixes[[\"CellPrefix\", \"CellPhoneNoLength\", \"VehicleSold\"]]"
   ]
  },
  {
   "cell_type": "code",
   "execution_count": 161,
   "id": "AlVPr7DfmrfL",
   "metadata": {
    "colab": {
     "base_uri": "https://localhost:8080/"
    },
    "id": "AlVPr7DfmrfL",
    "outputId": "35fe627f-e261-490e-d9b0-d560fe6b4263"
   },
   "outputs": [
    {
     "name": "stdout",
     "output_type": "stream",
     "text": [
      "<class 'pandas.core.frame.DataFrame'>\n",
      "RangeIndex: 73286 entries, 0 to 73285\n",
      "Data columns (total 21 columns):\n",
      " #   Column                     Non-Null Count  Dtype  \n",
      "---  ------                     --------------  -----  \n",
      " 0   Dealer                     73286 non-null  float64\n",
      " 1   LeadSource                 73286 non-null  float64\n",
      " 2   LeadType                   73286 non-null  float64\n",
      " 3   Seek                       73286 non-null  float64\n",
      " 4   InterestMake               73286 non-null  float64\n",
      " 5   InterestModel              73286 non-null  float64\n",
      " 6   CellPrefix                 73286 non-null  float64\n",
      " 7   CellPhoneNoLength          73286 non-null  int64  \n",
      " 8   HourOfEnquiry              73286 non-null  int64  \n",
      " 9   DayOfEnquiry               73286 non-null  int64  \n",
      " 10  InFinanceProcessSystemApp  73286 non-null  int64  \n",
      " 11  FinanceApplied             73286 non-null  int64  \n",
      " 12  FinanceApproved            73286 non-null  int64  \n",
      " 13  VehicleSold                73286 non-null  int64  \n",
      " 14  DayOfWeek                  73286 non-null  int32  \n",
      " 15  AllocationTime             73286 non-null  float64\n",
      " 16  DealerCity                 73286 non-null  float64\n",
      " 17  IsFullName                 73286 non-null  int64  \n",
      " 18  DomainCompany              73286 non-null  float64\n",
      " 19  DomainTLD                  73286 non-null  float64\n",
      " 20  ValidPrefix                73286 non-null  int64  \n",
      "dtypes: float64(11), int32(1), int64(9)\n",
      "memory usage: 11.5 MB\n"
     ]
    }
   ],
   "source": [
    "leads_copy.info()"
   ]
  },
  {
   "cell_type": "code",
   "execution_count": 162,
   "id": "yvv2J0gFm4JN",
   "metadata": {
    "id": "yvv2J0gFm4JN"
   },
   "outputs": [],
   "source": [
    "# Store and Drop target feature\n",
    "target = leads_copy[\"VehicleSold\"]\n",
    "leads_copy = leads_copy.drop(\"VehicleSold\", axis=1)\n",
    "\n"
   ]
  },
  {
   "cell_type": "code",
   "execution_count": 163,
   "id": "1b7b741a-1649-49d1-8950-dfd681582f8a",
   "metadata": {},
   "outputs": [],
   "source": [
    "# Remove finance columns that leak future info\n",
    "leads_copy = leads_copy.drop(\n",
    "    [\"InFinanceProcessSystemApp\", \"FinanceApplied\", \"FinanceApproved\"],\n",
    "    axis=1\n",
    ")\n"
   ]
  },
  {
   "cell_type": "code",
   "execution_count": 164,
   "id": "K7JCyw44p0Jx",
   "metadata": {
    "colab": {
     "base_uri": "https://localhost:8080/"
    },
    "id": "K7JCyw44p0Jx",
    "outputId": "f593d8f2-0793-4588-d8fa-28f6bc692af4"
   },
   "outputs": [
    {
     "name": "stdout",
     "output_type": "stream",
     "text": [
      "<class 'pandas.core.frame.DataFrame'>\n",
      "RangeIndex: 73286 entries, 0 to 73285\n",
      "Data columns (total 17 columns):\n",
      " #   Column             Non-Null Count  Dtype  \n",
      "---  ------             --------------  -----  \n",
      " 0   Dealer             73286 non-null  float64\n",
      " 1   LeadSource         73286 non-null  float64\n",
      " 2   LeadType           73286 non-null  float64\n",
      " 3   Seek               73286 non-null  float64\n",
      " 4   InterestMake       73286 non-null  float64\n",
      " 5   InterestModel      73286 non-null  float64\n",
      " 6   CellPrefix         73286 non-null  float64\n",
      " 7   CellPhoneNoLength  73286 non-null  int64  \n",
      " 8   HourOfEnquiry      73286 non-null  int64  \n",
      " 9   DayOfEnquiry       73286 non-null  int64  \n",
      " 10  DayOfWeek          73286 non-null  int32  \n",
      " 11  AllocationTime     73286 non-null  float64\n",
      " 12  DealerCity         73286 non-null  float64\n",
      " 13  IsFullName         73286 non-null  int64  \n",
      " 14  DomainCompany      73286 non-null  float64\n",
      " 15  DomainTLD          73286 non-null  float64\n",
      " 16  ValidPrefix        73286 non-null  int64  \n",
      "dtypes: float64(11), int32(1), int64(5)\n",
      "memory usage: 9.2 MB\n"
     ]
    }
   ],
   "source": [
    "leads_copy.info()"
   ]
  },
  {
   "cell_type": "code",
   "execution_count": 165,
   "id": "_COAzi5cp3Ah",
   "metadata": {
    "id": "_COAzi5cp3Ah"
   },
   "outputs": [],
   "source": [
    "from sklearn.ensemble import RandomForestClassifier\n",
    "from sklearn.model_selection import train_test_split\n",
    "from sklearn.metrics import (average_precision_score,log_loss,precision_recall_curve,confusion_matrix)"
   ]
  },
  {
   "cell_type": "code",
   "execution_count": 166,
   "id": "1aa4cec7-def9-40b3-8955-146aeec862b1",
   "metadata": {},
   "outputs": [],
   "source": [
    "#Split the data for training and testing\n",
    "X_train,X_test,y_train,y_test = train_test_split(\n",
    "    leads_copy,\n",
    "    target,\n",
    "    test_size=0.2,\n",
    "    stratify=target,\n",
    "    random_state=2\n",
    ")\n",
    "\n"
   ]
  },
  {
   "cell_type": "code",
   "execution_count": 167,
   "id": "74d0439a-540a-441f-b9e1-b8ece34ec74c",
   "metadata": {},
   "outputs": [],
   "source": [
    "#Create and train a random forest \n",
    "rnd_clf= RandomForestClassifier(n_estimators=500 ,max_leaf_nodes=32 ,n_jobs=-1 ,class_weight='balanced',random_state=42)"
   ]
  },
  {
   "cell_type": "code",
   "execution_count": 168,
   "id": "ce81d282-d29b-4537-9ab2-07559639e13c",
   "metadata": {},
   "outputs": [
    {
     "data": {
      "text/html": [
       "<style>#sk-container-id-2 {\n",
       "  /* Definition of color scheme common for light and dark mode */\n",
       "  --sklearn-color-text: black;\n",
       "  --sklearn-color-line: gray;\n",
       "  /* Definition of color scheme for unfitted estimators */\n",
       "  --sklearn-color-unfitted-level-0: #fff5e6;\n",
       "  --sklearn-color-unfitted-level-1: #f6e4d2;\n",
       "  --sklearn-color-unfitted-level-2: #ffe0b3;\n",
       "  --sklearn-color-unfitted-level-3: chocolate;\n",
       "  /* Definition of color scheme for fitted estimators */\n",
       "  --sklearn-color-fitted-level-0: #f0f8ff;\n",
       "  --sklearn-color-fitted-level-1: #d4ebff;\n",
       "  --sklearn-color-fitted-level-2: #b3dbfd;\n",
       "  --sklearn-color-fitted-level-3: cornflowerblue;\n",
       "\n",
       "  /* Specific color for light theme */\n",
       "  --sklearn-color-text-on-default-background: var(--sg-text-color, var(--theme-code-foreground, var(--jp-content-font-color1, black)));\n",
       "  --sklearn-color-background: var(--sg-background-color, var(--theme-background, var(--jp-layout-color0, white)));\n",
       "  --sklearn-color-border-box: var(--sg-text-color, var(--theme-code-foreground, var(--jp-content-font-color1, black)));\n",
       "  --sklearn-color-icon: #696969;\n",
       "\n",
       "  @media (prefers-color-scheme: dark) {\n",
       "    /* Redefinition of color scheme for dark theme */\n",
       "    --sklearn-color-text-on-default-background: var(--sg-text-color, var(--theme-code-foreground, var(--jp-content-font-color1, white)));\n",
       "    --sklearn-color-background: var(--sg-background-color, var(--theme-background, var(--jp-layout-color0, #111)));\n",
       "    --sklearn-color-border-box: var(--sg-text-color, var(--theme-code-foreground, var(--jp-content-font-color1, white)));\n",
       "    --sklearn-color-icon: #878787;\n",
       "  }\n",
       "}\n",
       "\n",
       "#sk-container-id-2 {\n",
       "  color: var(--sklearn-color-text);\n",
       "}\n",
       "\n",
       "#sk-container-id-2 pre {\n",
       "  padding: 0;\n",
       "}\n",
       "\n",
       "#sk-container-id-2 input.sk-hidden--visually {\n",
       "  border: 0;\n",
       "  clip: rect(1px 1px 1px 1px);\n",
       "  clip: rect(1px, 1px, 1px, 1px);\n",
       "  height: 1px;\n",
       "  margin: -1px;\n",
       "  overflow: hidden;\n",
       "  padding: 0;\n",
       "  position: absolute;\n",
       "  width: 1px;\n",
       "}\n",
       "\n",
       "#sk-container-id-2 div.sk-dashed-wrapped {\n",
       "  border: 1px dashed var(--sklearn-color-line);\n",
       "  margin: 0 0.4em 0.5em 0.4em;\n",
       "  box-sizing: border-box;\n",
       "  padding-bottom: 0.4em;\n",
       "  background-color: var(--sklearn-color-background);\n",
       "}\n",
       "\n",
       "#sk-container-id-2 div.sk-container {\n",
       "  /* jupyter's `normalize.less` sets `[hidden] { display: none; }`\n",
       "     but bootstrap.min.css set `[hidden] { display: none !important; }`\n",
       "     so we also need the `!important` here to be able to override the\n",
       "     default hidden behavior on the sphinx rendered scikit-learn.org.\n",
       "     See: https://github.com/scikit-learn/scikit-learn/issues/21755 */\n",
       "  display: inline-block !important;\n",
       "  position: relative;\n",
       "}\n",
       "\n",
       "#sk-container-id-2 div.sk-text-repr-fallback {\n",
       "  display: none;\n",
       "}\n",
       "\n",
       "div.sk-parallel-item,\n",
       "div.sk-serial,\n",
       "div.sk-item {\n",
       "  /* draw centered vertical line to link estimators */\n",
       "  background-image: linear-gradient(var(--sklearn-color-text-on-default-background), var(--sklearn-color-text-on-default-background));\n",
       "  background-size: 2px 100%;\n",
       "  background-repeat: no-repeat;\n",
       "  background-position: center center;\n",
       "}\n",
       "\n",
       "/* Parallel-specific style estimator block */\n",
       "\n",
       "#sk-container-id-2 div.sk-parallel-item::after {\n",
       "  content: \"\";\n",
       "  width: 100%;\n",
       "  border-bottom: 2px solid var(--sklearn-color-text-on-default-background);\n",
       "  flex-grow: 1;\n",
       "}\n",
       "\n",
       "#sk-container-id-2 div.sk-parallel {\n",
       "  display: flex;\n",
       "  align-items: stretch;\n",
       "  justify-content: center;\n",
       "  background-color: var(--sklearn-color-background);\n",
       "  position: relative;\n",
       "}\n",
       "\n",
       "#sk-container-id-2 div.sk-parallel-item {\n",
       "  display: flex;\n",
       "  flex-direction: column;\n",
       "}\n",
       "\n",
       "#sk-container-id-2 div.sk-parallel-item:first-child::after {\n",
       "  align-self: flex-end;\n",
       "  width: 50%;\n",
       "}\n",
       "\n",
       "#sk-container-id-2 div.sk-parallel-item:last-child::after {\n",
       "  align-self: flex-start;\n",
       "  width: 50%;\n",
       "}\n",
       "\n",
       "#sk-container-id-2 div.sk-parallel-item:only-child::after {\n",
       "  width: 0;\n",
       "}\n",
       "\n",
       "/* Serial-specific style estimator block */\n",
       "\n",
       "#sk-container-id-2 div.sk-serial {\n",
       "  display: flex;\n",
       "  flex-direction: column;\n",
       "  align-items: center;\n",
       "  background-color: var(--sklearn-color-background);\n",
       "  padding-right: 1em;\n",
       "  padding-left: 1em;\n",
       "}\n",
       "\n",
       "\n",
       "/* Toggleable style: style used for estimator/Pipeline/ColumnTransformer box that is\n",
       "clickable and can be expanded/collapsed.\n",
       "- Pipeline and ColumnTransformer use this feature and define the default style\n",
       "- Estimators will overwrite some part of the style using the `sk-estimator` class\n",
       "*/\n",
       "\n",
       "/* Pipeline and ColumnTransformer style (default) */\n",
       "\n",
       "#sk-container-id-2 div.sk-toggleable {\n",
       "  /* Default theme specific background. It is overwritten whether we have a\n",
       "  specific estimator or a Pipeline/ColumnTransformer */\n",
       "  background-color: var(--sklearn-color-background);\n",
       "}\n",
       "\n",
       "/* Toggleable label */\n",
       "#sk-container-id-2 label.sk-toggleable__label {\n",
       "  cursor: pointer;\n",
       "  display: block;\n",
       "  width: 100%;\n",
       "  margin-bottom: 0;\n",
       "  padding: 0.5em;\n",
       "  box-sizing: border-box;\n",
       "  text-align: center;\n",
       "}\n",
       "\n",
       "#sk-container-id-2 label.sk-toggleable__label-arrow:before {\n",
       "  /* Arrow on the left of the label */\n",
       "  content: \"▸\";\n",
       "  float: left;\n",
       "  margin-right: 0.25em;\n",
       "  color: var(--sklearn-color-icon);\n",
       "}\n",
       "\n",
       "#sk-container-id-2 label.sk-toggleable__label-arrow:hover:before {\n",
       "  color: var(--sklearn-color-text);\n",
       "}\n",
       "\n",
       "/* Toggleable content - dropdown */\n",
       "\n",
       "#sk-container-id-2 div.sk-toggleable__content {\n",
       "  max-height: 0;\n",
       "  max-width: 0;\n",
       "  overflow: hidden;\n",
       "  text-align: left;\n",
       "  /* unfitted */\n",
       "  background-color: var(--sklearn-color-unfitted-level-0);\n",
       "}\n",
       "\n",
       "#sk-container-id-2 div.sk-toggleable__content.fitted {\n",
       "  /* fitted */\n",
       "  background-color: var(--sklearn-color-fitted-level-0);\n",
       "}\n",
       "\n",
       "#sk-container-id-2 div.sk-toggleable__content pre {\n",
       "  margin: 0.2em;\n",
       "  border-radius: 0.25em;\n",
       "  color: var(--sklearn-color-text);\n",
       "  /* unfitted */\n",
       "  background-color: var(--sklearn-color-unfitted-level-0);\n",
       "}\n",
       "\n",
       "#sk-container-id-2 div.sk-toggleable__content.fitted pre {\n",
       "  /* unfitted */\n",
       "  background-color: var(--sklearn-color-fitted-level-0);\n",
       "}\n",
       "\n",
       "#sk-container-id-2 input.sk-toggleable__control:checked~div.sk-toggleable__content {\n",
       "  /* Expand drop-down */\n",
       "  max-height: 200px;\n",
       "  max-width: 100%;\n",
       "  overflow: auto;\n",
       "}\n",
       "\n",
       "#sk-container-id-2 input.sk-toggleable__control:checked~label.sk-toggleable__label-arrow:before {\n",
       "  content: \"▾\";\n",
       "}\n",
       "\n",
       "/* Pipeline/ColumnTransformer-specific style */\n",
       "\n",
       "#sk-container-id-2 div.sk-label input.sk-toggleable__control:checked~label.sk-toggleable__label {\n",
       "  color: var(--sklearn-color-text);\n",
       "  background-color: var(--sklearn-color-unfitted-level-2);\n",
       "}\n",
       "\n",
       "#sk-container-id-2 div.sk-label.fitted input.sk-toggleable__control:checked~label.sk-toggleable__label {\n",
       "  background-color: var(--sklearn-color-fitted-level-2);\n",
       "}\n",
       "\n",
       "/* Estimator-specific style */\n",
       "\n",
       "/* Colorize estimator box */\n",
       "#sk-container-id-2 div.sk-estimator input.sk-toggleable__control:checked~label.sk-toggleable__label {\n",
       "  /* unfitted */\n",
       "  background-color: var(--sklearn-color-unfitted-level-2);\n",
       "}\n",
       "\n",
       "#sk-container-id-2 div.sk-estimator.fitted input.sk-toggleable__control:checked~label.sk-toggleable__label {\n",
       "  /* fitted */\n",
       "  background-color: var(--sklearn-color-fitted-level-2);\n",
       "}\n",
       "\n",
       "#sk-container-id-2 div.sk-label label.sk-toggleable__label,\n",
       "#sk-container-id-2 div.sk-label label {\n",
       "  /* The background is the default theme color */\n",
       "  color: var(--sklearn-color-text-on-default-background);\n",
       "}\n",
       "\n",
       "/* On hover, darken the color of the background */\n",
       "#sk-container-id-2 div.sk-label:hover label.sk-toggleable__label {\n",
       "  color: var(--sklearn-color-text);\n",
       "  background-color: var(--sklearn-color-unfitted-level-2);\n",
       "}\n",
       "\n",
       "/* Label box, darken color on hover, fitted */\n",
       "#sk-container-id-2 div.sk-label.fitted:hover label.sk-toggleable__label.fitted {\n",
       "  color: var(--sklearn-color-text);\n",
       "  background-color: var(--sklearn-color-fitted-level-2);\n",
       "}\n",
       "\n",
       "/* Estimator label */\n",
       "\n",
       "#sk-container-id-2 div.sk-label label {\n",
       "  font-family: monospace;\n",
       "  font-weight: bold;\n",
       "  display: inline-block;\n",
       "  line-height: 1.2em;\n",
       "}\n",
       "\n",
       "#sk-container-id-2 div.sk-label-container {\n",
       "  text-align: center;\n",
       "}\n",
       "\n",
       "/* Estimator-specific */\n",
       "#sk-container-id-2 div.sk-estimator {\n",
       "  font-family: monospace;\n",
       "  border: 1px dotted var(--sklearn-color-border-box);\n",
       "  border-radius: 0.25em;\n",
       "  box-sizing: border-box;\n",
       "  margin-bottom: 0.5em;\n",
       "  /* unfitted */\n",
       "  background-color: var(--sklearn-color-unfitted-level-0);\n",
       "}\n",
       "\n",
       "#sk-container-id-2 div.sk-estimator.fitted {\n",
       "  /* fitted */\n",
       "  background-color: var(--sklearn-color-fitted-level-0);\n",
       "}\n",
       "\n",
       "/* on hover */\n",
       "#sk-container-id-2 div.sk-estimator:hover {\n",
       "  /* unfitted */\n",
       "  background-color: var(--sklearn-color-unfitted-level-2);\n",
       "}\n",
       "\n",
       "#sk-container-id-2 div.sk-estimator.fitted:hover {\n",
       "  /* fitted */\n",
       "  background-color: var(--sklearn-color-fitted-level-2);\n",
       "}\n",
       "\n",
       "/* Specification for estimator info (e.g. \"i\" and \"?\") */\n",
       "\n",
       "/* Common style for \"i\" and \"?\" */\n",
       "\n",
       ".sk-estimator-doc-link,\n",
       "a:link.sk-estimator-doc-link,\n",
       "a:visited.sk-estimator-doc-link {\n",
       "  float: right;\n",
       "  font-size: smaller;\n",
       "  line-height: 1em;\n",
       "  font-family: monospace;\n",
       "  background-color: var(--sklearn-color-background);\n",
       "  border-radius: 1em;\n",
       "  height: 1em;\n",
       "  width: 1em;\n",
       "  text-decoration: none !important;\n",
       "  margin-left: 1ex;\n",
       "  /* unfitted */\n",
       "  border: var(--sklearn-color-unfitted-level-1) 1pt solid;\n",
       "  color: var(--sklearn-color-unfitted-level-1);\n",
       "}\n",
       "\n",
       ".sk-estimator-doc-link.fitted,\n",
       "a:link.sk-estimator-doc-link.fitted,\n",
       "a:visited.sk-estimator-doc-link.fitted {\n",
       "  /* fitted */\n",
       "  border: var(--sklearn-color-fitted-level-1) 1pt solid;\n",
       "  color: var(--sklearn-color-fitted-level-1);\n",
       "}\n",
       "\n",
       "/* On hover */\n",
       "div.sk-estimator:hover .sk-estimator-doc-link:hover,\n",
       ".sk-estimator-doc-link:hover,\n",
       "div.sk-label-container:hover .sk-estimator-doc-link:hover,\n",
       ".sk-estimator-doc-link:hover {\n",
       "  /* unfitted */\n",
       "  background-color: var(--sklearn-color-unfitted-level-3);\n",
       "  color: var(--sklearn-color-background);\n",
       "  text-decoration: none;\n",
       "}\n",
       "\n",
       "div.sk-estimator.fitted:hover .sk-estimator-doc-link.fitted:hover,\n",
       ".sk-estimator-doc-link.fitted:hover,\n",
       "div.sk-label-container:hover .sk-estimator-doc-link.fitted:hover,\n",
       ".sk-estimator-doc-link.fitted:hover {\n",
       "  /* fitted */\n",
       "  background-color: var(--sklearn-color-fitted-level-3);\n",
       "  color: var(--sklearn-color-background);\n",
       "  text-decoration: none;\n",
       "}\n",
       "\n",
       "/* Span, style for the box shown on hovering the info icon */\n",
       ".sk-estimator-doc-link span {\n",
       "  display: none;\n",
       "  z-index: 9999;\n",
       "  position: relative;\n",
       "  font-weight: normal;\n",
       "  right: .2ex;\n",
       "  padding: .5ex;\n",
       "  margin: .5ex;\n",
       "  width: min-content;\n",
       "  min-width: 20ex;\n",
       "  max-width: 50ex;\n",
       "  color: var(--sklearn-color-text);\n",
       "  box-shadow: 2pt 2pt 4pt #999;\n",
       "  /* unfitted */\n",
       "  background: var(--sklearn-color-unfitted-level-0);\n",
       "  border: .5pt solid var(--sklearn-color-unfitted-level-3);\n",
       "}\n",
       "\n",
       ".sk-estimator-doc-link.fitted span {\n",
       "  /* fitted */\n",
       "  background: var(--sklearn-color-fitted-level-0);\n",
       "  border: var(--sklearn-color-fitted-level-3);\n",
       "}\n",
       "\n",
       ".sk-estimator-doc-link:hover span {\n",
       "  display: block;\n",
       "}\n",
       "\n",
       "/* \"?\"-specific style due to the `<a>` HTML tag */\n",
       "\n",
       "#sk-container-id-2 a.estimator_doc_link {\n",
       "  float: right;\n",
       "  font-size: 1rem;\n",
       "  line-height: 1em;\n",
       "  font-family: monospace;\n",
       "  background-color: var(--sklearn-color-background);\n",
       "  border-radius: 1rem;\n",
       "  height: 1rem;\n",
       "  width: 1rem;\n",
       "  text-decoration: none;\n",
       "  /* unfitted */\n",
       "  color: var(--sklearn-color-unfitted-level-1);\n",
       "  border: var(--sklearn-color-unfitted-level-1) 1pt solid;\n",
       "}\n",
       "\n",
       "#sk-container-id-2 a.estimator_doc_link.fitted {\n",
       "  /* fitted */\n",
       "  border: var(--sklearn-color-fitted-level-1) 1pt solid;\n",
       "  color: var(--sklearn-color-fitted-level-1);\n",
       "}\n",
       "\n",
       "/* On hover */\n",
       "#sk-container-id-2 a.estimator_doc_link:hover {\n",
       "  /* unfitted */\n",
       "  background-color: var(--sklearn-color-unfitted-level-3);\n",
       "  color: var(--sklearn-color-background);\n",
       "  text-decoration: none;\n",
       "}\n",
       "\n",
       "#sk-container-id-2 a.estimator_doc_link.fitted:hover {\n",
       "  /* fitted */\n",
       "  background-color: var(--sklearn-color-fitted-level-3);\n",
       "}\n",
       "</style><div id=\"sk-container-id-2\" class=\"sk-top-container\"><div class=\"sk-text-repr-fallback\"><pre>RandomForestClassifier(class_weight=&#x27;balanced&#x27;, max_leaf_nodes=32,\n",
       "                       n_estimators=500, n_jobs=-1, random_state=42)</pre><b>In a Jupyter environment, please rerun this cell to show the HTML representation or trust the notebook. <br />On GitHub, the HTML representation is unable to render, please try loading this page with nbviewer.org.</b></div><div class=\"sk-container\" hidden><div class=\"sk-item\"><div class=\"sk-estimator fitted sk-toggleable\"><input class=\"sk-toggleable__control sk-hidden--visually\" id=\"sk-estimator-id-2\" type=\"checkbox\" checked><label for=\"sk-estimator-id-2\" class=\"sk-toggleable__label fitted sk-toggleable__label-arrow fitted\">&nbsp;&nbsp;RandomForestClassifier<a class=\"sk-estimator-doc-link fitted\" rel=\"noreferrer\" target=\"_blank\" href=\"https://scikit-learn.org/1.5/modules/generated/sklearn.ensemble.RandomForestClassifier.html\">?<span>Documentation for RandomForestClassifier</span></a><span class=\"sk-estimator-doc-link fitted\">i<span>Fitted</span></span></label><div class=\"sk-toggleable__content fitted\"><pre>RandomForestClassifier(class_weight=&#x27;balanced&#x27;, max_leaf_nodes=32,\n",
       "                       n_estimators=500, n_jobs=-1, random_state=42)</pre></div> </div></div></div></div>"
      ],
      "text/plain": [
       "RandomForestClassifier(class_weight='balanced', max_leaf_nodes=32,\n",
       "                       n_estimators=500, n_jobs=-1, random_state=42)"
      ]
     },
     "execution_count": 168,
     "metadata": {},
     "output_type": "execute_result"
    }
   ],
   "source": [
    "#Fit the model\n",
    "\n",
    "rnd_clf.fit(X_train,y_train)\n",
    "\n"
   ]
  },
  {
   "cell_type": "code",
   "execution_count": 169,
   "id": "604b9a9e-dd01-45b1-ac20-ce38b1c70c4a",
   "metadata": {},
   "outputs": [],
   "source": [
    "#Predict ( probabilities for the class 1  for vehicle sold )\n",
    "y_test_probs = rnd_clf.predict_proba(X_test)[:,1]\n"
   ]
  },
  {
   "cell_type": "code",
   "execution_count": 170,
   "id": "c40c7688-1252-4679-b8b5-5c5e33ecfd90",
   "metadata": {},
   "outputs": [
    {
     "name": "stdout",
     "output_type": "stream",
     "text": [
      "PR-AUC on validation set:0.0717\n"
     ]
    }
   ],
   "source": [
    "#get the PR_AUC\n",
    "pr_auc= average_precision_score(y_test,y_test_probs)\n",
    "print(f\"PR-AUC on validation set:{pr_auc:.4f}\")"
   ]
  },
  {
   "cell_type": "code",
   "execution_count": 171,
   "id": "3925f75c-cf1a-4ff5-8218-a548eaf207dd",
   "metadata": {},
   "outputs": [
    {
     "name": "stdout",
     "output_type": "stream",
     "text": [
      "Log Loss on validation set: 0.6357\n"
     ]
    }
   ],
   "source": [
    "#Dont matter for now \n",
    "\n",
    "ll = log_loss(y_test, y_test_probs)\n",
    "\n",
    "print(f\"Log Loss on validation set: {ll:.4f}\")\n"
   ]
  },
  {
   "cell_type": "code",
   "execution_count": 172,
   "id": "c782d2df-5a65-486b-8ab9-bfa7557015f2",
   "metadata": {},
   "outputs": [
    {
     "data": {
      "image/png": "[encoded data removed]",
      "text/plain": [
       "<Figure size 640x480 with 1 Axes>"
      ]
     },
     "metadata": {},
     "output_type": "display_data"
    }
   ],
   "source": [
    "precision, recall, thresholds = precision_recall_curve(y_test, y_test_probs)\n",
    "\n",
    "plt.plot(recall, precision, linewidth=2)\n",
    "plt.xlabel(\"Recall\")\n",
    "plt.ylabel(\"Precision\")\n",
    "plt.title(\"Precision-Recall Curve (Validation Set)\")\n",
    "plt.show()\n"
   ]
  },
  {
   "cell_type": "code",
   "execution_count": 173,
   "id": "a40336e9-5111-461d-a68e-b2f309a9273c",
   "metadata": {},
   "outputs": [],
   "source": [
    "#Evaluate at a classification threshold using probability\n",
    "#threshold  to classyify as sold \n",
    "threshold =0.5\n",
    "\n",
    "#Turn the probabilities into predictions \n",
    "y_test_pred =(y_test_probs >=threshold).astype(int)\n"
   ]
  },
  {
   "cell_type": "code",
   "execution_count": 174,
   "id": "013fc7e0-5faa-40ec-9dc4-309d201077bf",
   "metadata": {},
   "outputs": [
    {
     "name": "stdout",
     "output_type": "stream",
     "text": [
      "Confusion Matrix \n",
      "[[7494 6518]\n",
      " [ 205  441]]\n",
      "True Negatives:  7494\n",
      "False Positives:  6518\n",
      "False Negatives:  205\n",
      "True Positives:  441\n"
     ]
    }
   ],
   "source": [
    "\n",
    "#Map out predictions \n",
    "cm=confusion_matrix(y_test ,y_test_pred)\n",
    "tn,fp,fn,tp =cm.ravel()\n",
    "\n",
    "\n",
    "print(\"Confusion Matrix \")\n",
    "print(cm)\n",
    "print(\"True Negatives: \" ,tn)\n",
    "print(\"False Positives: \" ,fp)\n",
    "print(\"False Negatives: \" ,fn)\n",
    "print(\"True Positives: \" ,tp)\n"
   ]
  },
  {
   "cell_type": "code",
   "execution_count": 175,
   "id": "d03d8edd-6093-4192-a846-a68f8aebc57f",
   "metadata": {},
   "outputs": [
    {
     "name": "stdout",
     "output_type": "stream",
     "text": [
      "Precison 0.06337117401925564\n",
      "Recall 0.6826625386996904\n"
     ]
    }
   ],
   "source": [
    "\n",
    "#calculate \n",
    "precison=tp/(tp+fp)\n",
    "print(\"Precison\" ,precison)\n",
    "\n",
    "recall=tp/(tp+fn)\n",
    "print(\"Recall\" ,recall)"
   ]
  },
  {
   "cell_type": "code",
   "execution_count": 176,
   "id": "9042d603-f522-4690-afca-a1e960c1c811",
   "metadata": {},
   "outputs": [
    {
     "name": "stdout",
     "output_type": "stream",
     "text": [
      "F1 Score: 0.11597633136094675\n"
     ]
    }
   ],
   "source": [
    "#f1 score \n",
    "from sklearn.metrics import f1_score\n",
    "\n",
    "f1 = f1_score(y_test, y_test_pred, zero_division=0)\n",
    "print(\"F1 Score:\", f1)\n"
   ]
  },
  {
   "cell_type": "code",
   "execution_count": 177,
   "id": "8cf03edb-2f58-4a7d-bb4e-12b07aa0b55b",
   "metadata": {},
   "outputs": [
    {
     "name": "stdout",
     "output_type": "stream",
     "text": [
      "InterestMake\n",
      "146.0    461\n",
      "64.0     457\n",
      "113.0    426\n",
      "77.0     262\n",
      "114.0    254\n",
      "        ... \n",
      "42.0       1\n",
      "33.0       1\n",
      "28.0       1\n",
      "110.0      1\n",
      "143.0      1\n",
      "Name: count, Length: 133, dtype: int64\n"
     ]
    }
   ],
   "source": [
    "counts = leads_copy[\"InterestMake\"].value_counts()\n",
    "rare_makes = counts[counts < 500]\n",
    "print(rare_makes)\n"
   ]
  },
  {
   "cell_type": "code",
   "execution_count": 178,
   "id": "70b66fcb-6ef0-4544-9b4c-38139262037b",
   "metadata": {},
   "outputs": [
    {
     "name": "stdout",
     "output_type": "stream",
     "text": [
      "Requirement already satisfied: catboost in c:\\users\\teboh\\anaconda3\\lib\\site-packages (1.2.8)\n",
      "Requirement already satisfied: graphviz in c:\\users\\teboh\\anaconda3\\lib\\site-packages (from catboost) (0.21)\n",
      "Requirement already satisfied: matplotlib in c:\\users\\teboh\\anaconda3\\lib\\site-packages (from catboost) (3.9.2)\n",
      "Requirement already satisfied: numpy<3.0,>=1.16.0 in c:\\users\\teboh\\anaconda3\\lib\\site-packages (from catboost) (1.26.4)\n",
      "Requirement already satisfied: pandas>=0.24 in c:\\users\\teboh\\anaconda3\\lib\\site-packages (from catboost) (2.2.2)\n",
      "Requirement already satisfied: scipy in c:\\users\\teboh\\anaconda3\\lib\\site-packages (from catboost) (1.13.1)\n",
      "Requirement already satisfied: plotly in c:\\users\\teboh\\anaconda3\\lib\\site-packages (from catboost) (5.24.1)\n",
      "Requirement already satisfied: six in c:\\users\\teboh\\anaconda3\\lib\\site-packages (from catboost) (1.16.0)\n",
      "Requirement already satisfied: python-dateutil>=2.8.2 in c:\\users\\teboh\\anaconda3\\lib\\site-packages (from pandas>=0.24->catboost) (2.9.0.post0)\n",
      "Requirement already satisfied: pytz>=2020.1 in c:\\users\\teboh\\anaconda3\\lib\\site-packages (from pandas>=0.24->catboost) (2024.1)\n",
      "Requirement already satisfied: tzdata>=2022.7 in c:\\users\\teboh\\anaconda3\\lib\\site-packages (from pandas>=0.24->catboost) (2023.3)\n",
      "Requirement already satisfied: contourpy>=1.0.1 in c:\\users\\teboh\\anaconda3\\lib\\site-packages (from matplotlib->catboost) (1.2.0)\n",
      "Requirement already satisfied: cycler>=0.10 in c:\\users\\teboh\\anaconda3\\lib\\site-packages (from matplotlib->catboost) (0.11.0)\n",
      "Requirement already satisfied: fonttools>=4.22.0 in c:\\users\\teboh\\anaconda3\\lib\\site-packages (from matplotlib->catboost) (4.51.0)\n",
      "Requirement already satisfied: kiwisolver>=1.3.1 in c:\\users\\teboh\\anaconda3\\lib\\site-packages (from matplotlib->catboost) (1.4.4)\n",
      "Requirement already satisfied: packaging>=20.0 in c:\\users\\teboh\\anaconda3\\lib\\site-packages (from matplotlib->catboost) (24.1)\n",
      "Requirement already satisfied: pillow>=8 in c:\\users\\teboh\\anaconda3\\lib\\site-packages (from matplotlib->catboost) (10.4.0)\n",
      "Requirement already satisfied: pyparsing>=2.3.1 in c:\\users\\teboh\\anaconda3\\lib\\site-packages (from matplotlib->catboost) (3.1.2)\n",
      "Requirement already satisfied: tenacity>=6.2.0 in c:\\users\\teboh\\anaconda3\\lib\\site-packages (from plotly->catboost) (8.2.3)\n",
      "Note: you may need to restart the kernel to use updated packages.\n"
     ]
    }
   ],
   "source": [
    "pip install catboost"
   ]
  },
  {
   "cell_type": "code",
   "execution_count": 179,
   "id": "7e658643-510c-4596-8c50-004a3872fc7e",
   "metadata": {},
   "outputs": [],
   "source": [
    "import numpy as np\n",
    "import pandas as pd\n",
    "import matplotlib.pyplot as plt\n",
    "\n",
    "from catboost import CatBoostClassifier, Pool\n",
    "from sklearn.model_selection import train_test_split\n",
    "from sklearn.metrics import (\n",
    "    average_precision_score,\n",
    "    log_loss,\n",
    "    roc_auc_score,\n",
    "    precision_recall_curve,\n",
    "    confusion_matrix\n",
    ")"
   ]
  },
  {
   "cell_type": "code",
   "execution_count": 180,
   "id": "85a54718-88b2-470d-b11a-87d7e13dc29f",
   "metadata": {},
   "outputs": [
    {
     "name": "stdout",
     "output_type": "stream",
     "text": [
      "Training shape: (58628, 17)\n",
      "Validation shape: (14658, 17)\n"
     ]
    }
   ],
   "source": [
    "# Convert potential categorical columns to string\n",
    "potential_categories = [\n",
    "    \"Dealer\", \n",
    "    \"LeadSource\", \n",
    "    \"LeadType\", \n",
    "    \"Seek\", \n",
    "    \"InterestMake\", \n",
    "    \"InterestModel\", \n",
    "    \"CellPrefix\",\n",
    "    \"DealerCity\", \n",
    "    \"DomainCompany\", \n",
    "    \"DomainTLD\", \n",
    "    \n",
    "]\n",
    "\n",
    "\n",
    "for col in potential_categories:\n",
    "    if col in leads_copy.columns:\n",
    "        leads_copy[col] = leads_copy[col].astype(str)\n",
    "\n",
    "# Split data\n",
    "X_train, X_val, y_train, y_val = train_test_split(\n",
    "    leads_copy,\n",
    "    target,\n",
    "    test_size=0.2,\n",
    "    stratify=target,\n",
    "    random_state=42\n",
    ")\n",
    "\n",
    "\n",
    "print(\"Training shape:\", X_train.shape)\n",
    "print(\"Validation shape:\", X_val.shape)\n"
   ]
  },
  {
   "cell_type": "code",
   "execution_count": 181,
   "id": "28438f18-713d-43f8-b25e-9afa14d631ec",
   "metadata": {
    "scrolled": true
   },
   "outputs": [
    {
     "name": "stdout",
     "output_type": "stream",
     "text": [
      "Categorical features for CatBoost: ['Dealer', 'LeadSource', 'LeadType', 'Seek', 'InterestMake', 'InterestModel', 'CellPrefix', 'DealerCity', 'DomainCompany', 'DomainTLD']\n",
      "Scale_pos_weight:  21.706429124709526\n",
      "0:\tlearn: 0.6159890\ttest: 0.5988472\tbest: 0.5988472 (0)\ttotal: 82.9ms\tremaining: 24.8s\n",
      "50:\tlearn: 0.6522397\ttest: 0.6360164\tbest: 0.6360164 (50)\ttotal: 3.94s\tremaining: 19.2s\n",
      "Stopped by overfitting detector  (20 iterations wait)\n",
      "\n",
      "bestTest = 0.6391399448\n",
      "bestIteration = 64\n",
      "\n",
      "Shrink model to first 65 iterations.\n"
     ]
    },
    {
     "data": {
      "text/plain": [
       "<catboost.core.CatBoostClassifier at 0x12e65e90e90>"
      ]
     },
     "execution_count": 181,
     "metadata": {},
     "output_type": "execute_result"
    }
   ],
   "source": [
    "\n",
    "# Identify categorical features\n",
    "categorical_features = [col for col in potential_categories if col in X_train.columns]\n",
    "print(\"Categorical features for CatBoost:\", categorical_features)\n",
    "\n",
    "# Create Pools for CatBoost\n",
    "train_pool = Pool(X_train, y_train, cat_features=categorical_features)\n",
    "val_pool = Pool(X_val, y_val, cat_features=categorical_features)\n",
    "\n",
    "\n",
    "# Calculate class weight for imbalance\n",
    "scale_pos_weight = len(y_train[y_train == 0]) / len(y_train[y_train == 1])\n",
    "print(\"Scale_pos_weight: \" ,scale_pos_weight)\n",
    "\n",
    "\n",
    "#Train model with my best parameters \n",
    "\n",
    "# Best parameters from  tuning\n",
    "best_params = {\n",
    "    'iterations': 300,\n",
    "    'learning_rate': 0.05,\n",
    "    'depth': 5,\n",
    "    'l2_leaf_reg': 1\n",
    "}\n",
    "\n",
    "# Instantiate final model\n",
    "catboost_model = CatBoostClassifier(\n",
    "    iterations=best_params['iterations'],\n",
    "    learning_rate=best_params['learning_rate'],\n",
    "    depth=best_params['depth'],\n",
    "    l2_leaf_reg=best_params['l2_leaf_reg'],\n",
    "    eval_metric='PRAUC',\n",
    "    scale_pos_weight=scale_pos_weight,\n",
    "    cat_features=categorical_features,\n",
    "    random_state=42,\n",
    "    verbose=50,\n",
    "    early_stopping_rounds=20\n",
    ")\n",
    "\n",
    "\n",
    "# Train model \n",
    "catboost_model.fit(train_pool, eval_set=val_pool)\n",
    "\n"
   ]
  },
  {
   "cell_type": "code",
   "execution_count": 182,
   "id": "3a64241b-bf26-448b-933e-e6137961775f",
   "metadata": {
    "scrolled": true
   },
   "outputs": [
    {
     "name": "stdout",
     "output_type": "stream",
     "text": [
      "           Feature Id  Importances\n",
      "0        InterestMake    19.773248\n",
      "1       InterestModel    14.521320\n",
      "2           DomainTLD    12.344373\n",
      "3            LeadType    11.597293\n",
      "4          CellPrefix    10.965225\n",
      "5          LeadSource     9.557301\n",
      "6                Seek     7.884428\n",
      "7      AllocationTime     3.538622\n",
      "8              Dealer     3.395338\n",
      "9       DomainCompany     1.925052\n",
      "10         DealerCity     1.645136\n",
      "11          DayOfWeek     1.638520\n",
      "12      HourOfEnquiry     0.574547\n",
      "13       DayOfEnquiry     0.480476\n",
      "14  CellPhoneNoLength     0.159123\n",
      "15         IsFullName     0.000000\n",
      "16        ValidPrefix     0.000000\n"
     ]
    }
   ],
   "source": [
    "feat_imp = catboost_model.get_feature_importance(prettified=True)\n",
    "print(feat_imp)\n"
   ]
  },
  {
   "cell_type": "code",
   "execution_count": 183,
   "id": "da709ed3-d5d0-4e7c-aa74-c61d353593cf",
   "metadata": {},
   "outputs": [
    {
     "name": "stdout",
     "output_type": "stream",
     "text": [
      "Blended PR-AUC:  0.09172105154173428\n"
     ]
    }
   ],
   "source": [
    "# Get  columns used for the original RF\n",
    "rf_features = rnd_clf.feature_names_in_.tolist()\n",
    "\n",
    "# Prepare the validation set with same columns\n",
    "X_val_for_rf = X_val[rf_features]\n",
    "\n",
    "# Predict with Random Forest\n",
    "y_pred_probs_rf = rnd_clf.predict_proba(X_val_for_rf)[:, 1]\n",
    "\n",
    "# CatBoost predictions\n",
    "y_pred_probs_catboost = catboost_model.predict_proba(X_val)[:, 1]\n",
    "\n",
    "# Blended probabilities (50-50)\n",
    "mixed_probs = 0.5 * y_pred_probs_catboost + 0.5 * y_pred_probs_rf\n",
    "\n",
    "# Evaluate blended model\n",
    "pr_auc_mixed= average_precision_score(y_val,mixed_probs)\n",
    "print(\"Blended PR-AUC: \",pr_auc_mixed)\n"
   ]
  },
  {
   "cell_type": "code",
   "execution_count": 184,
   "id": "6a5643ab-14de-438d-a603-0ac9d184c339",
   "metadata": {},
   "outputs": [
    {
     "name": "stdout",
     "output_type": "stream",
     "text": [
      "Blended Log Loss: 0.6351867174627047\n"
     ]
    }
   ],
   "source": [
    "mixed_log_loss = log_loss(y_val, mixed_probs)\n",
    "print(\"Blended Log Loss:\", mixed_log_loss)"
   ]
  },
  {
   "cell_type": "code",
   "execution_count": null,
   "id": "323b2ed4-650b-4906-9a6d-ff94c8d62d94",
   "metadata": {},
   "outputs": [],
   "source": []
  },
  {
   "cell_type": "code",
   "execution_count": 190,
   "id": "149da9ea-9289-4c5d-95cb-883d3ba015e0",
   "metadata": {},
   "outputs": [],
   "source": [
    "# Load Test CSV\n",
    "test_data = pd.read_csv(\"TestData.csv\")"
   ]
  },
  {
   "cell_type": "code",
   "execution_count": 191,
   "id": "9585c548-b3bc-4521-9e90-aa03e2c80742",
   "metadata": {
    "scrolled": true
   },
   "outputs": [],
   "source": [
    "# Store and drop the Lead ID\n",
    "lead_ids = test_data[\"LeadID\"]\n",
    "test_data = test_data.drop(\"LeadID\", axis=1)\n",
    "\n",
    "# Drop Customer ID\n",
    "test_data = test_data.drop(\"CustomerID\", axis=1)\n",
    "\n",
    "# Converting DTLeadCreated to type DateTime\n",
    "test_data[\"DTLeadCreated\"] = pd.to_datetime(test_data[\"DTLeadCreated\"])\n",
    "test_data[\"DayOfWeek\"] = test_data[\"DTLeadCreated\"].dt.dayofweek # Extracting The Day of the Week from the date\n",
    "\n",
    "# Converting DRLeadAllocated to type DateTime\n",
    "test_data[\"DTLeadAllocated\"] = pd.to_datetime(test_data[\"DTLeadAllocated\"])\n",
    "\n",
    "# Calculating and storing the difference between lead creation and lead allocation\n",
    "test_data[\"AllocationTime\"] = (test_data[\"DTLeadAllocated\"] - test_data[\"DTLeadCreated\"]).dt.total_seconds()/60\n",
    "\n",
    "# Dropping date Lead Created and date lead allocated\n",
    "test_data = test_data.drop(\"DTLeadCreated\", axis=1)\n",
    "test_data = test_data.drop(\"DTLeadAllocated\", axis=1)\n",
    "\n",
    "# Method to extract the deaer locations from the dealer name\n",
    "def get_dealer_location(dealer_string):\n",
    "\n",
    "    #remove the suffix and change to lowercase\n",
    "    dealer_string = dealer_string.lower().split()\n",
    "\n",
    "    if \"multifranchise\" in dealer_string:\n",
    "        dealer_name = dealer_string[0]\n",
    "\n",
    "        # check the common two word cities at the end\n",
    "        if dealer_name == \"cape\" or dealer_name == \"east\" or dealer_name == \"west\":\n",
    "            dealer_name = dealer_name + \" \" + dealer_string[1]\n",
    "\n",
    "    elif \"motus\" in dealer_string:\n",
    "        dealer_name = dealer_string[-1]\n",
    "\n",
    "        # check the common two word cities at the end\n",
    "        if dealer_name == \"town\" or dealer_name == \"rand\":\n",
    "            dealer_name = dealer_string[-2] + \" \" + dealer_name\n",
    "\n",
    "    else:\n",
    "        dealer_name = dealer_string[-1]\n",
    "\n",
    "        # check the common two word cities at the end\n",
    "        if dealer_name == \"town\" or dealer_name == \"rand\":\n",
    "            dealer_name = dealer_string[-2] + \" \" + dealer_name\n",
    "\n",
    "    # check if a number was found\n",
    "    if dealer_name.isdigit():\n",
    "        return dealer_string[-3]\n",
    "    else:\n",
    "        return dealer_name\n",
    "\n",
    "\n",
    "# Extract the Dealer's city\n",
    "test_data[\"DealerCity\"] =test_data[\"Dealer\"].apply(get_dealer_location)\n",
    "\n",
    "# Convert String features into type Category and float for the scikit Model to work with\n",
    "test_data[\"Dealer\"] = test_data[\"Dealer\"].astype(\"category\").cat.codes.astype(\"float\")\n",
    "test_data[\"DealerCity\"] = test_data[\"DealerCity\"].astype(\"category\").cat.codes.astype(\"float\")\n",
    "\n",
    "# Convert String features into type Category and float for the scikit Model to work with\n",
    "test_data[\"LeadType\"] = test_data[\"LeadType\"].astype(\"category\").cat.codes.astype(\"float\")\n",
    "test_data[\"LeadSource\"] = test_data[\"LeadType\"].astype(\"category\").cat.codes.astype(\"float\")\n",
    "\n",
    "# Convert String features into type Category and float for the scikit Model to work with\n",
    "test_data[\"Seek\"] = test_data[\"Seek\"].astype(\"category\").cat.codes.astype(\"float\")\n",
    "\n",
    "# Method to get cleaned InterestMake\n",
    "def clean_interest_make(interest_make):\n",
    "  interest_make = str(interest_make).upper().split(\" \")\n",
    "  interest_make = interest_make[0].split(\"-\")\n",
    "  return interest_make[0]\n",
    "\n",
    "# Clean InterestMake feature\n",
    "test_data[\"InterestMake\"] = test_data[\"InterestMake\"].apply(clean_interest_make)\n",
    "\n",
    "# Convert String features into type Category and float for the scikit Model to work with\n",
    "test_data[\"InterestMake\"] = test_data[\"InterestMake\"].astype(\"category\").cat.codes.astype(\"float\")\n",
    "\n",
    "# Method to only get the first word in the InterestModel feature\n",
    "def clean_interest_model(interest_model):\n",
    "  interest_model=str(interest_model).upper().split(\" \")\n",
    "\n",
    "  return interest_model[0]\n",
    "\n",
    "# Clean the InterestModel feature\n",
    "test_data[\"InterestModel\"] = test_data[\"InterestModel\"].apply(clean_interest_model)\n",
    "\n",
    "# Convert String features into type Category and float for the scikit Model to work with\n",
    "test_data[\"InterestModel\"] = test_data[\"InterestModel\"].astype(\"category\").cat.codes.astype(\"float\")\n",
    "\n",
    "# Method to check if the name is a full name\n",
    "def is_full_name(full_name):\n",
    "  full_name = str(full_name).split(\" \")\n",
    "\n",
    "  if len(full_name) < 2:\n",
    "    return 0\n",
    "  else:\n",
    "    return 1\n",
    "\n",
    "# Check if the name given is a valid full name\n",
    "test_data[\"IsFullName\"] = test_data[\"OBSFullName\"].apply(is_full_name)\n",
    "\n",
    "# Drop OBSFUllName\n",
    "test_data = test_data.drop(\"OBSFullName\", axis=1)\n",
    "\n",
    "# Drop OBSEmail\n",
    "test_data = test_data.drop(\"OBSEmail\", axis=1)\n",
    "\n",
    "# retrieves the company of the email domain\n",
    "def retrieve_email_company(email_domain):\n",
    "    if pd.isna(email_domain):\n",
    "        return \"UNKNOWN\"\n",
    "    domain_array = email_domain.split(\".\")\n",
    "    return domain_array[0]\n",
    "\n",
    "# retrieves the TLD of the email domain\n",
    "def retrieve_email_tld(email_domain):\n",
    "    if pd.isna(email_domain):\n",
    "        return \"UNKNOWN\"\n",
    "    domain_array = email_domain.split(\".\")\n",
    "    return \".\".join(domain_array[1:])\n",
    "\n",
    "# Extract the comapny of controlling the email domain\n",
    "test_data[\"DomainCompany\"] = test_data[\"Domain\"].apply(retrieve_email_company)\n",
    "\n",
    "# Convert the string feature to a usable fload value\n",
    "test_data[\"DomainCompany\"] = test_data[\"DomainCompany\"].astype(\"category\").cat.codes.astype(\"float\")\n",
    "\n",
    "# Extract the TLD from the Domain\n",
    "test_data[\"DomainTLD\"] = test_data[\"Domain\"].apply(retrieve_email_tld)\n",
    "\n",
    "# Convert string feature into usable float value\n",
    "test_data[\"DomainTLD\"] = test_data[\"DomainTLD\"].astype(\"category\").cat.codes.astype(\"float\")\n",
    "\n",
    "# Drop domain feature\n",
    "test_data = test_data.drop(\"Domain\", axis=1)\n",
    "\n",
    "# check if a cellphone prefix is valid\n",
    "def cell_prefix_is_valid(cell_prefix):\n",
    "    # check if does not contain characters\n",
    "    if not cell_prefix.isdigit():\n",
    "        return 0\n",
    "    else:\n",
    "        # check if it is 2 digits\n",
    "        if len(cell_prefix) != 2:\n",
    "            return 0\n",
    "        else:\n",
    "            return 1\n",
    "\n",
    "# Check if the cellprefix is valid\n",
    "test_data[\"ValidPrefix\"] = test_data[\"CellPrefix\"].apply(cell_prefix_is_valid)\n",
    "\n",
    "# Convert string feature into usable float value\n",
    "test_data[\"CellPrefix\"] = test_data[\"CellPrefix\"].astype(\"category\").cat.codes.astype(\"float\")"
   ]
  },
  {
   "cell_type": "code",
   "execution_count": 192,
   "id": "2326e763-3abb-4edb-aff6-15bfa65307d2",
   "metadata": {},
   "outputs": [
    {
     "data": {
      "text/plain": [
       "<bound method DataFrame.info of        Dealer  LeadSource  LeadType  Seek  InterestMake  InterestModel  \\\n",
       "0        23.0         6.0       6.0   0.0          49.0          335.0   \n",
       "1       107.0         4.0       4.0   0.0          81.0          428.0   \n",
       "2        72.0         4.0       4.0   0.0          61.0          298.0   \n",
       "3        28.0         0.0       0.0   1.0          90.0          337.0   \n",
       "4       101.0         6.0       6.0   1.0          39.0          255.0   \n",
       "...       ...         ...       ...   ...           ...            ...   \n",
       "15606     0.0         4.0       4.0   0.0          81.0          279.0   \n",
       "15607   104.0         1.0       1.0   1.0          81.0          428.0   \n",
       "15608    71.0         4.0       4.0   0.0          61.0          251.0   \n",
       "15609    13.0         4.0       4.0   1.0          66.0          473.0   \n",
       "15610    31.0         8.0       8.0   1.0          90.0          337.0   \n",
       "\n",
       "       CellPrefix  CellPhoneNoLength  HourOfEnquiry  DayOfEnquiry  DayOfWeek  \\\n",
       "0            60.0                 10             14            15          5   \n",
       "1            48.0                 10             15            15          5   \n",
       "2            54.0                 10             15            15          5   \n",
       "3            58.0                 10             16            15          5   \n",
       "4            55.0                 10             16            15          5   \n",
       "...           ...                ...            ...           ...        ...   \n",
       "15606        48.0                 10             17            30          6   \n",
       "15607        60.0                 10             18            30          6   \n",
       "15608        60.0                 10             19            30          6   \n",
       "15609        60.0                 10             19            30          6   \n",
       "15610        62.0                 10             19            30          6   \n",
       "\n",
       "       AllocationTime  DealerCity  IsFullName  DomainCompany  DomainTLD  \\\n",
       "0              2709.0        25.0           1          300.0       39.0   \n",
       "1                 0.0        28.0           1          300.0       39.0   \n",
       "2                 0.0        36.0           1          300.0       39.0   \n",
       "3              2528.0        24.0           1          300.0       39.0   \n",
       "4                 0.0        27.0           1          300.0       39.0   \n",
       "...               ...         ...         ...            ...        ...   \n",
       "15606             0.0         1.0           1          300.0       39.0   \n",
       "15607             0.0         5.0           1          300.0       39.0   \n",
       "15608             0.0        28.0           1          300.0       39.0   \n",
       "15609             0.0        12.0           1          747.0       39.0   \n",
       "15610           802.0        18.0           1          536.0       35.0   \n",
       "\n",
       "       ValidPrefix  \n",
       "0                1  \n",
       "1                1  \n",
       "2                1  \n",
       "3                1  \n",
       "4                1  \n",
       "...            ...  \n",
       "15606            1  \n",
       "15607            1  \n",
       "15608            1  \n",
       "15609            1  \n",
       "15610            1  \n",
       "\n",
       "[15611 rows x 17 columns]>"
      ]
     },
     "execution_count": 192,
     "metadata": {},
     "output_type": "execute_result"
    }
   ],
   "source": [
    "test_data.info"
   ]
  },
  {
   "cell_type": "code",
   "execution_count": null,
   "id": "54762417-fb16-41ad-ab2b-350a7c465b8c",
   "metadata": {},
   "outputs": [],
   "source": []
  },
  {
   "cell_type": "code",
   "execution_count": 193,
   "id": "2b17d35a-d766-4017-8fea-482356530d6b",
   "metadata": {},
   "outputs": [],
   "source": [
    "# Keep original copy of test_data\n",
    "test_data_copy = test_data.copy()"
   ]
  },
  {
   "cell_type": "code",
   "execution_count": 194,
   "id": "01bbdacb-429e-413e-b764-29dd6646d32f",
   "metadata": {},
   "outputs": [],
   "source": [
    "#Create CatBoost Pool\n",
    "for col in potential_categories:\n",
    "    if col in leads_copy.columns:\n",
    "        test_data[col] = test_data[col].astype(str)\n",
    "\n",
    "test_pool = Pool(\n",
    "    data = test_data,\n",
    "    cat_features = potential_categories\n",
    ")"
   ]
  },
  {
   "cell_type": "code",
   "execution_count": 197,
   "id": "f7aba6a2-cd31-499e-8fce-1d17951bc632",
   "metadata": {},
   "outputs": [],
   "source": [
    "# CatBoost Prediction\n",
    "catboost_probs = catboost_model.predict_proba(test_pool)[:, 1]"
   ]
  },
  {
   "cell_type": "code",
   "execution_count": 198,
   "id": "cc62f737-513d-4ea1-94fd-282031e35c6f",
   "metadata": {},
   "outputs": [],
   "source": [
    "# Random FOrest Prediction\n",
    "rf_probs = rnd_clf.predict_proba(test_data)[:, 1]"
   ]
  },
  {
   "cell_type": "code",
   "execution_count": 201,
   "id": "f6c465f3-756d-4313-80f4-ca4a1ec8813f",
   "metadata": {},
   "outputs": [],
   "source": [
    "# Blended predictions\n",
    "mixed_probs = 0.5 * catboost_probs + 0.5 * rf_probs"
   ]
  },
  {
   "cell_type": "code",
   "execution_count": null,
   "id": "3a2be3c3-1f3c-42cb-9ea9-603afea5386b",
   "metadata": {},
   "outputs": [],
   "source": []
  },
  {
   "cell_type": "code",
   "execution_count": 202,
   "id": "24f647f3-46dc-424c-8489-f65edc93af47",
   "metadata": {},
   "outputs": [],
   "source": [
    "# Create output DataFrame\n",
    "output = pd.DataFrame({\n",
    "    \"LeadId\": lead_ids,\n",
    "    \"VehicleSoldProbability\": mixed_probs\n",
    "})"
   ]
  },
  {
   "cell_type": "code",
   "execution_count": 203,
   "id": "12f6de24-5449-4ea0-84ed-d1cb698823f6",
   "metadata": {},
   "outputs": [
    {
     "name": "stdout",
     "output_type": "stream",
     "text": [
      "Prediction saved\n"
     ]
    }
   ],
   "source": [
    "# Save CSV\n",
    "output.to_csv(\"submission.csv\", index=False)\n",
    "print(\"Prediction saved\")"
   ]
  },
  {
   "cell_type": "code",
   "execution_count": null,
   "id": "a76dae2b-6976-4a3e-bfbe-763b9692eaba",
   "metadata": {},
   "outputs": [],
   "source": []
  },
  {
   "cell_type": "code",
   "execution_count": null,
   "id": "738eb934-fd66-4968-aea8-17aa0158c356",
   "metadata": {},
   "outputs": [],
   "source": []
  }
 ],
 "metadata": {
  "colab": {
   "collapsed_sections": [
    "m7v-8SN0ailk"
   ],
   "provenance": []
  },
  "kernelspec": {
   "display_name": "Python [conda env:base] *",
   "language": "python",
   "name": "conda-base-py"
  },
  "language_info": {
   "codemirror_mode": {
    "name": "ipython",
    "version": 3
   },
   "file_extension": ".py",
   "mimetype": "text/x-python",
   "name": "python",
   "nbconvert_exporter": "python",
   "pygments_lexer": "ipython3",
   "version": "3.12.7"
  }
 },
 "nbformat": 4,
 "nbformat_minor": 5
}
